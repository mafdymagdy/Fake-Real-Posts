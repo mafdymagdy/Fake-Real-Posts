{
 "cells": [
  {
   "cell_type": "markdown",
   "metadata": {
    "papermill": {
     "duration": 0.059779,
     "end_time": "2021-01-20T05:39:30.078924",
     "exception": false,
     "start_time": "2021-01-20T05:39:30.019145",
     "status": "completed"
    },
    "tags": []
   },
   "source": [
    "## <center> Ensemble Modeling\n",
    "### <center> Problem Statement : For a given dataset which is the best classification algorithm(as per accuracy)\n",
    "### <center> Dataset : 'fake_job_postings.csv'\n",
    "\n",
    "    "
   ]
  },
  {
   "cell_type": "markdown",
   "metadata": {
    "papermill": {
     "duration": 0.058629,
     "end_time": "2021-01-20T05:39:30.196932",
     "exception": false,
     "start_time": "2021-01-20T05:39:30.138303",
     "status": "completed"
    },
    "tags": []
   },
   "source": [
    "## Importing Libraries\n"
   ]
  },
  {
   "cell_type": "code",
   "execution_count": 3,
   "metadata": {
    "execution": {
     "iopub.execute_input": "2021-01-20T05:39:30.321635Z",
     "iopub.status.busy": "2021-01-20T05:39:30.320894Z",
     "iopub.status.idle": "2021-01-20T05:39:31.403214Z",
     "shell.execute_reply": "2021-01-20T05:39:31.403762Z"
    },
    "papermill": {
     "duration": 1.148095,
     "end_time": "2021-01-20T05:39:31.403927",
     "exception": false,
     "start_time": "2021-01-20T05:39:30.255832",
     "status": "completed"
    },
    "tags": []
   },
   "outputs": [],
   "source": [
    "#Import required Libraries\n",
    "import numpy as np\n",
    "import pandas as pd\n",
    "import seaborn as sb\n",
    "import matplotlib.pyplot as plt"
   ]
  },
  {
   "cell_type": "code",
   "execution_count": 4,
   "metadata": {
    "execution": {
     "iopub.execute_input": "2021-01-20T05:39:31.535297Z",
     "iopub.status.busy": "2021-01-20T05:39:31.534470Z",
     "iopub.status.idle": "2021-01-20T05:39:32.948586Z",
     "shell.execute_reply": "2021-01-20T05:39:32.949123Z"
    },
    "papermill": {
     "duration": 1.485352,
     "end_time": "2021-01-20T05:39:32.949287",
     "exception": false,
     "start_time": "2021-01-20T05:39:31.463935",
     "status": "completed"
    },
    "tags": []
   },
   "outputs": [
    {
     "data": {
      "text/html": [
       "<div>\n",
       "<style scoped>\n",
       "    .dataframe tbody tr th:only-of-type {\n",
       "        vertical-align: middle;\n",
       "    }\n",
       "\n",
       "    .dataframe tbody tr th {\n",
       "        vertical-align: top;\n",
       "    }\n",
       "\n",
       "    .dataframe thead th {\n",
       "        text-align: right;\n",
       "    }\n",
       "</style>\n",
       "<table border=\"1\" class=\"dataframe\">\n",
       "  <thead>\n",
       "    <tr style=\"text-align: right;\">\n",
       "      <th></th>\n",
       "      <th>job_id</th>\n",
       "      <th>title</th>\n",
       "      <th>location</th>\n",
       "      <th>department</th>\n",
       "      <th>salary_range</th>\n",
       "      <th>company_profile</th>\n",
       "      <th>description</th>\n",
       "      <th>requirements</th>\n",
       "      <th>benefits</th>\n",
       "      <th>telecommuting</th>\n",
       "      <th>has_company_logo</th>\n",
       "      <th>has_questions</th>\n",
       "      <th>employment_type</th>\n",
       "      <th>required_experience</th>\n",
       "      <th>required_education</th>\n",
       "      <th>industry</th>\n",
       "      <th>function</th>\n",
       "      <th>fraudulent</th>\n",
       "    </tr>\n",
       "  </thead>\n",
       "  <tbody>\n",
       "    <tr>\n",
       "      <th>0</th>\n",
       "      <td>1</td>\n",
       "      <td>Marketing Intern</td>\n",
       "      <td>US, NY, New York</td>\n",
       "      <td>Marketing</td>\n",
       "      <td>NaN</td>\n",
       "      <td>We're Food52, and we've created a groundbreaki...</td>\n",
       "      <td>Food52, a fast-growing, James Beard Award-winn...</td>\n",
       "      <td>Experience with content management systems a m...</td>\n",
       "      <td>NaN</td>\n",
       "      <td>0</td>\n",
       "      <td>1</td>\n",
       "      <td>0</td>\n",
       "      <td>Other</td>\n",
       "      <td>Internship</td>\n",
       "      <td>NaN</td>\n",
       "      <td>NaN</td>\n",
       "      <td>Marketing</td>\n",
       "      <td>0</td>\n",
       "    </tr>\n",
       "    <tr>\n",
       "      <th>1</th>\n",
       "      <td>2</td>\n",
       "      <td>Customer Service - Cloud Video Production</td>\n",
       "      <td>NZ, , Auckland</td>\n",
       "      <td>Success</td>\n",
       "      <td>NaN</td>\n",
       "      <td>90 Seconds, the worlds Cloud Video Production ...</td>\n",
       "      <td>Organised - Focused - Vibrant - Awesome!Do you...</td>\n",
       "      <td>What we expect from you:Your key responsibilit...</td>\n",
       "      <td>What you will get from usThrough being part of...</td>\n",
       "      <td>0</td>\n",
       "      <td>1</td>\n",
       "      <td>0</td>\n",
       "      <td>Full-time</td>\n",
       "      <td>Not Applicable</td>\n",
       "      <td>NaN</td>\n",
       "      <td>Marketing and Advertising</td>\n",
       "      <td>Customer Service</td>\n",
       "      <td>0</td>\n",
       "    </tr>\n",
       "    <tr>\n",
       "      <th>2</th>\n",
       "      <td>3</td>\n",
       "      <td>Commissioning Machinery Assistant (CMA)</td>\n",
       "      <td>US, IA, Wever</td>\n",
       "      <td>NaN</td>\n",
       "      <td>NaN</td>\n",
       "      <td>Valor Services provides Workforce Solutions th...</td>\n",
       "      <td>Our client, located in Houston, is actively se...</td>\n",
       "      <td>Implement pre-commissioning and commissioning ...</td>\n",
       "      <td>NaN</td>\n",
       "      <td>0</td>\n",
       "      <td>1</td>\n",
       "      <td>0</td>\n",
       "      <td>NaN</td>\n",
       "      <td>NaN</td>\n",
       "      <td>NaN</td>\n",
       "      <td>NaN</td>\n",
       "      <td>NaN</td>\n",
       "      <td>0</td>\n",
       "    </tr>\n",
       "    <tr>\n",
       "      <th>3</th>\n",
       "      <td>4</td>\n",
       "      <td>Account Executive - Washington DC</td>\n",
       "      <td>US, DC, Washington</td>\n",
       "      <td>Sales</td>\n",
       "      <td>NaN</td>\n",
       "      <td>Our passion for improving quality of life thro...</td>\n",
       "      <td>THE COMPANY: ESRI – Environmental Systems Rese...</td>\n",
       "      <td>EDUCATION: Bachelor’s or Master’s in GIS, busi...</td>\n",
       "      <td>Our culture is anything but corporate—we have ...</td>\n",
       "      <td>0</td>\n",
       "      <td>1</td>\n",
       "      <td>0</td>\n",
       "      <td>Full-time</td>\n",
       "      <td>Mid-Senior level</td>\n",
       "      <td>Bachelor's Degree</td>\n",
       "      <td>Computer Software</td>\n",
       "      <td>Sales</td>\n",
       "      <td>0</td>\n",
       "    </tr>\n",
       "    <tr>\n",
       "      <th>4</th>\n",
       "      <td>5</td>\n",
       "      <td>Bill Review Manager</td>\n",
       "      <td>US, FL, Fort Worth</td>\n",
       "      <td>NaN</td>\n",
       "      <td>NaN</td>\n",
       "      <td>SpotSource Solutions LLC is a Global Human Cap...</td>\n",
       "      <td>JOB TITLE: Itemization Review ManagerLOCATION:...</td>\n",
       "      <td>QUALIFICATIONS:RN license in the State of Texa...</td>\n",
       "      <td>Full Benefits Offered</td>\n",
       "      <td>0</td>\n",
       "      <td>1</td>\n",
       "      <td>1</td>\n",
       "      <td>Full-time</td>\n",
       "      <td>Mid-Senior level</td>\n",
       "      <td>Bachelor's Degree</td>\n",
       "      <td>Hospital &amp; Health Care</td>\n",
       "      <td>Health Care Provider</td>\n",
       "      <td>0</td>\n",
       "    </tr>\n",
       "  </tbody>\n",
       "</table>\n",
       "</div>"
      ],
      "text/plain": [
       "   job_id                                      title            location  \\\n",
       "0       1                           Marketing Intern    US, NY, New York   \n",
       "1       2  Customer Service - Cloud Video Production      NZ, , Auckland   \n",
       "2       3    Commissioning Machinery Assistant (CMA)       US, IA, Wever   \n",
       "3       4          Account Executive - Washington DC  US, DC, Washington   \n",
       "4       5                        Bill Review Manager  US, FL, Fort Worth   \n",
       "\n",
       "  department salary_range                                    company_profile  \\\n",
       "0  Marketing          NaN  We're Food52, and we've created a groundbreaki...   \n",
       "1    Success          NaN  90 Seconds, the worlds Cloud Video Production ...   \n",
       "2        NaN          NaN  Valor Services provides Workforce Solutions th...   \n",
       "3      Sales          NaN  Our passion for improving quality of life thro...   \n",
       "4        NaN          NaN  SpotSource Solutions LLC is a Global Human Cap...   \n",
       "\n",
       "                                         description  \\\n",
       "0  Food52, a fast-growing, James Beard Award-winn...   \n",
       "1  Organised - Focused - Vibrant - Awesome!Do you...   \n",
       "2  Our client, located in Houston, is actively se...   \n",
       "3  THE COMPANY: ESRI – Environmental Systems Rese...   \n",
       "4  JOB TITLE: Itemization Review ManagerLOCATION:...   \n",
       "\n",
       "                                        requirements  \\\n",
       "0  Experience with content management systems a m...   \n",
       "1  What we expect from you:Your key responsibilit...   \n",
       "2  Implement pre-commissioning and commissioning ...   \n",
       "3  EDUCATION: Bachelor’s or Master’s in GIS, busi...   \n",
       "4  QUALIFICATIONS:RN license in the State of Texa...   \n",
       "\n",
       "                                            benefits  telecommuting  \\\n",
       "0                                                NaN              0   \n",
       "1  What you will get from usThrough being part of...              0   \n",
       "2                                                NaN              0   \n",
       "3  Our culture is anything but corporate—we have ...              0   \n",
       "4                              Full Benefits Offered              0   \n",
       "\n",
       "   has_company_logo  has_questions employment_type required_experience  \\\n",
       "0                 1              0           Other          Internship   \n",
       "1                 1              0       Full-time      Not Applicable   \n",
       "2                 1              0             NaN                 NaN   \n",
       "3                 1              0       Full-time    Mid-Senior level   \n",
       "4                 1              1       Full-time    Mid-Senior level   \n",
       "\n",
       "  required_education                   industry              function  \\\n",
       "0                NaN                        NaN             Marketing   \n",
       "1                NaN  Marketing and Advertising      Customer Service   \n",
       "2                NaN                        NaN                   NaN   \n",
       "3  Bachelor's Degree          Computer Software                 Sales   \n",
       "4  Bachelor's Degree     Hospital & Health Care  Health Care Provider   \n",
       "\n",
       "   fraudulent  \n",
       "0           0  \n",
       "1           0  \n",
       "2           0  \n",
       "3           0  \n",
       "4           0  "
      ]
     },
     "execution_count": 4,
     "metadata": {},
     "output_type": "execute_result"
    }
   ],
   "source": [
    "#Reading csv file of dataset\n",
    "df = pd.read_csv(\"D:\\Datasets\\job postings.csv\")\n",
    "df.head()   "
   ]
  },
  {
   "cell_type": "markdown",
   "metadata": {
    "papermill": {
     "duration": 0.069133,
     "end_time": "2021-01-20T05:39:33.080350",
     "exception": false,
     "start_time": "2021-01-20T05:39:33.011217",
     "status": "completed"
    },
    "tags": []
   },
   "source": [
    "## Exploring dataset"
   ]
  },
  {
   "cell_type": "code",
   "execution_count": 5,
   "metadata": {
    "execution": {
     "iopub.execute_input": "2021-01-20T05:39:33.243561Z",
     "iopub.status.busy": "2021-01-20T05:39:33.242898Z",
     "iopub.status.idle": "2021-01-20T05:39:33.249824Z",
     "shell.execute_reply": "2021-01-20T05:39:33.249127Z"
    },
    "papermill": {
     "duration": 0.08459,
     "end_time": "2021-01-20T05:39:33.249940",
     "exception": false,
     "start_time": "2021-01-20T05:39:33.165350",
     "status": "completed"
    },
    "tags": []
   },
   "outputs": [
    {
     "data": {
      "text/plain": [
       "Index(['job_id', 'title', 'location', 'department', 'salary_range',\n",
       "       'company_profile', 'description', 'requirements', 'benefits',\n",
       "       'telecommuting', 'has_company_logo', 'has_questions', 'employment_type',\n",
       "       'required_experience', 'required_education', 'industry', 'function',\n",
       "       'fraudulent'],\n",
       "      dtype='object')"
      ]
     },
     "execution_count": 5,
     "metadata": {},
     "output_type": "execute_result"
    }
   ],
   "source": [
    "df.columns"
   ]
  },
  {
   "cell_type": "code",
   "execution_count": 6,
   "metadata": {
    "execution": {
     "iopub.execute_input": "2021-01-20T05:39:33.375064Z",
     "iopub.status.busy": "2021-01-20T05:39:33.374431Z",
     "iopub.status.idle": "2021-01-20T05:39:33.414733Z",
     "shell.execute_reply": "2021-01-20T05:39:33.413901Z"
    },
    "papermill": {
     "duration": 0.10397,
     "end_time": "2021-01-20T05:39:33.414920",
     "exception": false,
     "start_time": "2021-01-20T05:39:33.310950",
     "status": "completed"
    },
    "tags": []
   },
   "outputs": [
    {
     "name": "stdout",
     "output_type": "stream",
     "text": [
      "<class 'pandas.core.frame.DataFrame'>\n",
      "RangeIndex: 17880 entries, 0 to 17879\n",
      "Data columns (total 18 columns):\n",
      " #   Column               Non-Null Count  Dtype \n",
      "---  ------               --------------  ----- \n",
      " 0   job_id               17880 non-null  int64 \n",
      " 1   title                17880 non-null  object\n",
      " 2   location             17534 non-null  object\n",
      " 3   department           6333 non-null   object\n",
      " 4   salary_range         2868 non-null   object\n",
      " 5   company_profile      14572 non-null  object\n",
      " 6   description          17879 non-null  object\n",
      " 7   requirements         15185 non-null  object\n",
      " 8   benefits             10670 non-null  object\n",
      " 9   telecommuting        17880 non-null  int64 \n",
      " 10  has_company_logo     17880 non-null  int64 \n",
      " 11  has_questions        17880 non-null  int64 \n",
      " 12  employment_type      14409 non-null  object\n",
      " 13  required_experience  10830 non-null  object\n",
      " 14  required_education   9775 non-null   object\n",
      " 15  industry             12977 non-null  object\n",
      " 16  function             11425 non-null  object\n",
      " 17  fraudulent           17880 non-null  int64 \n",
      "dtypes: int64(5), object(13)\n",
      "memory usage: 2.5+ MB\n"
     ]
    }
   ],
   "source": [
    "##Info about the data shape of data, type of individual columns\n",
    "df.info()"
   ]
  },
  {
   "cell_type": "code",
   "execution_count": 7,
   "metadata": {
    "execution": {
     "iopub.execute_input": "2021-01-20T05:39:33.547632Z",
     "iopub.status.busy": "2021-01-20T05:39:33.546939Z",
     "iopub.status.idle": "2021-01-20T05:39:33.576262Z",
     "shell.execute_reply": "2021-01-20T05:39:33.575039Z"
    },
    "papermill": {
     "duration": 0.098029,
     "end_time": "2021-01-20T05:39:33.576378",
     "exception": false,
     "start_time": "2021-01-20T05:39:33.478349",
     "status": "completed"
    },
    "tags": []
   },
   "outputs": [
    {
     "data": {
      "text/html": [
       "<div>\n",
       "<style scoped>\n",
       "    .dataframe tbody tr th:only-of-type {\n",
       "        vertical-align: middle;\n",
       "    }\n",
       "\n",
       "    .dataframe tbody tr th {\n",
       "        vertical-align: top;\n",
       "    }\n",
       "\n",
       "    .dataframe thead th {\n",
       "        text-align: right;\n",
       "    }\n",
       "</style>\n",
       "<table border=\"1\" class=\"dataframe\">\n",
       "  <thead>\n",
       "    <tr style=\"text-align: right;\">\n",
       "      <th></th>\n",
       "      <th>job_id</th>\n",
       "      <th>telecommuting</th>\n",
       "      <th>has_company_logo</th>\n",
       "      <th>has_questions</th>\n",
       "      <th>fraudulent</th>\n",
       "    </tr>\n",
       "  </thead>\n",
       "  <tbody>\n",
       "    <tr>\n",
       "      <th>count</th>\n",
       "      <td>17880.000000</td>\n",
       "      <td>17880.000000</td>\n",
       "      <td>17880.000000</td>\n",
       "      <td>17880.000000</td>\n",
       "      <td>17880.000000</td>\n",
       "    </tr>\n",
       "    <tr>\n",
       "      <th>mean</th>\n",
       "      <td>8940.500000</td>\n",
       "      <td>0.042897</td>\n",
       "      <td>0.795302</td>\n",
       "      <td>0.491723</td>\n",
       "      <td>0.048434</td>\n",
       "    </tr>\n",
       "    <tr>\n",
       "      <th>std</th>\n",
       "      <td>5161.655742</td>\n",
       "      <td>0.202631</td>\n",
       "      <td>0.403492</td>\n",
       "      <td>0.499945</td>\n",
       "      <td>0.214688</td>\n",
       "    </tr>\n",
       "    <tr>\n",
       "      <th>min</th>\n",
       "      <td>1.000000</td>\n",
       "      <td>0.000000</td>\n",
       "      <td>0.000000</td>\n",
       "      <td>0.000000</td>\n",
       "      <td>0.000000</td>\n",
       "    </tr>\n",
       "    <tr>\n",
       "      <th>25%</th>\n",
       "      <td>4470.750000</td>\n",
       "      <td>0.000000</td>\n",
       "      <td>1.000000</td>\n",
       "      <td>0.000000</td>\n",
       "      <td>0.000000</td>\n",
       "    </tr>\n",
       "    <tr>\n",
       "      <th>50%</th>\n",
       "      <td>8940.500000</td>\n",
       "      <td>0.000000</td>\n",
       "      <td>1.000000</td>\n",
       "      <td>0.000000</td>\n",
       "      <td>0.000000</td>\n",
       "    </tr>\n",
       "    <tr>\n",
       "      <th>75%</th>\n",
       "      <td>13410.250000</td>\n",
       "      <td>0.000000</td>\n",
       "      <td>1.000000</td>\n",
       "      <td>1.000000</td>\n",
       "      <td>0.000000</td>\n",
       "    </tr>\n",
       "    <tr>\n",
       "      <th>max</th>\n",
       "      <td>17880.000000</td>\n",
       "      <td>1.000000</td>\n",
       "      <td>1.000000</td>\n",
       "      <td>1.000000</td>\n",
       "      <td>1.000000</td>\n",
       "    </tr>\n",
       "  </tbody>\n",
       "</table>\n",
       "</div>"
      ],
      "text/plain": [
       "             job_id  telecommuting  has_company_logo  has_questions  \\\n",
       "count  17880.000000   17880.000000      17880.000000   17880.000000   \n",
       "mean    8940.500000       0.042897          0.795302       0.491723   \n",
       "std     5161.655742       0.202631          0.403492       0.499945   \n",
       "min        1.000000       0.000000          0.000000       0.000000   \n",
       "25%     4470.750000       0.000000          1.000000       0.000000   \n",
       "50%     8940.500000       0.000000          1.000000       0.000000   \n",
       "75%    13410.250000       0.000000          1.000000       1.000000   \n",
       "max    17880.000000       1.000000          1.000000       1.000000   \n",
       "\n",
       "         fraudulent  \n",
       "count  17880.000000  \n",
       "mean       0.048434  \n",
       "std        0.214688  \n",
       "min        0.000000  \n",
       "25%        0.000000  \n",
       "50%        0.000000  \n",
       "75%        0.000000  \n",
       "max        1.000000  "
      ]
     },
     "execution_count": 7,
     "metadata": {},
     "output_type": "execute_result"
    }
   ],
   "source": [
    "df.describe()"
   ]
  },
  {
   "cell_type": "code",
   "execution_count": 8,
   "metadata": {
    "execution": {
     "iopub.execute_input": "2021-01-20T05:39:33.706774Z",
     "iopub.status.busy": "2021-01-20T05:39:33.706065Z",
     "iopub.status.idle": "2021-01-20T05:39:33.709172Z",
     "shell.execute_reply": "2021-01-20T05:39:33.708557Z"
    },
    "papermill": {
     "duration": 0.070737,
     "end_time": "2021-01-20T05:39:33.709328",
     "exception": false,
     "start_time": "2021-01-20T05:39:33.638591",
     "status": "completed"
    },
    "tags": []
   },
   "outputs": [
    {
     "data": {
      "text/plain": [
       "(17880, 18)"
      ]
     },
     "execution_count": 8,
     "metadata": {},
     "output_type": "execute_result"
    }
   ],
   "source": [
    "df.shape"
   ]
  },
  {
   "cell_type": "markdown",
   "metadata": {
    "papermill": {
     "duration": 0.062007,
     "end_time": "2021-01-20T05:39:33.835726",
     "exception": false,
     "start_time": "2021-01-20T05:39:33.773719",
     "status": "completed"
    },
    "tags": []
   },
   "source": [
    "## Feature Selection"
   ]
  },
  {
   "cell_type": "code",
   "execution_count": 9,
   "metadata": {
    "execution": {
     "iopub.execute_input": "2021-01-20T05:39:33.968844Z",
     "iopub.status.busy": "2021-01-20T05:39:33.968057Z",
     "iopub.status.idle": "2021-01-20T05:39:33.972134Z",
     "shell.execute_reply": "2021-01-20T05:39:33.971474Z"
    },
    "papermill": {
     "duration": 0.072084,
     "end_time": "2021-01-20T05:39:33.972265",
     "exception": false,
     "start_time": "2021-01-20T05:39:33.900181",
     "status": "completed"
    },
    "tags": []
   },
   "outputs": [
    {
     "data": {
      "text/plain": [
       "Index(['job_id', 'title', 'location', 'department', 'salary_range',\n",
       "       'company_profile', 'description', 'requirements', 'benefits',\n",
       "       'telecommuting', 'has_company_logo', 'has_questions', 'employment_type',\n",
       "       'required_experience', 'required_education', 'industry', 'function',\n",
       "       'fraudulent'],\n",
       "      dtype='object')"
      ]
     },
     "execution_count": 9,
     "metadata": {},
     "output_type": "execute_result"
    }
   ],
   "source": [
    "df.columns"
   ]
  },
  {
   "cell_type": "code",
   "execution_count": 10,
   "metadata": {
    "execution": {
     "iopub.execute_input": "2021-01-20T05:39:34.110378Z",
     "iopub.status.busy": "2021-01-20T05:39:34.109604Z",
     "iopub.status.idle": "2021-01-20T05:39:34.112786Z",
     "shell.execute_reply": "2021-01-20T05:39:34.112119Z"
    },
    "papermill": {
     "duration": 0.077201,
     "end_time": "2021-01-20T05:39:34.112899",
     "exception": false,
     "start_time": "2021-01-20T05:39:34.035698",
     "status": "completed"
    },
    "tags": []
   },
   "outputs": [],
   "source": [
    "df = df[['title', 'location','company_profile', 'requirements', 'telecommuting', 'has_company_logo', 'has_questions', 'employment_type',\n",
    "       'required_experience', 'required_education', 'industry', 'function','salary_range',\n",
    "       'fraudulent']]"
   ]
  },
  {
   "cell_type": "markdown",
   "metadata": {
    "papermill": {
     "duration": 0.062758,
     "end_time": "2021-01-20T05:39:34.239401",
     "exception": false,
     "start_time": "2021-01-20T05:39:34.176643",
     "status": "completed"
    },
    "tags": []
   },
   "source": [
    "## Check for missing values and outliers"
   ]
  },
  {
   "cell_type": "code",
   "execution_count": 11,
   "metadata": {
    "execution": {
     "iopub.execute_input": "2021-01-20T05:39:34.389723Z",
     "iopub.status.busy": "2021-01-20T05:39:34.388980Z",
     "iopub.status.idle": "2021-01-20T05:39:34.424916Z",
     "shell.execute_reply": "2021-01-20T05:39:34.424254Z"
    },
    "papermill": {
     "duration": 0.122687,
     "end_time": "2021-01-20T05:39:34.425029",
     "exception": false,
     "start_time": "2021-01-20T05:39:34.302342",
     "status": "completed"
    },
    "tags": []
   },
   "outputs": [
    {
     "data": {
      "text/html": [
       "<div>\n",
       "<style scoped>\n",
       "    .dataframe tbody tr th:only-of-type {\n",
       "        vertical-align: middle;\n",
       "    }\n",
       "\n",
       "    .dataframe tbody tr th {\n",
       "        vertical-align: top;\n",
       "    }\n",
       "\n",
       "    .dataframe thead th {\n",
       "        text-align: right;\n",
       "    }\n",
       "</style>\n",
       "<table border=\"1\" class=\"dataframe\">\n",
       "  <thead>\n",
       "    <tr style=\"text-align: right;\">\n",
       "      <th></th>\n",
       "      <th>title</th>\n",
       "      <th>location</th>\n",
       "      <th>company_profile</th>\n",
       "      <th>requirements</th>\n",
       "      <th>telecommuting</th>\n",
       "      <th>has_company_logo</th>\n",
       "      <th>has_questions</th>\n",
       "      <th>employment_type</th>\n",
       "      <th>required_experience</th>\n",
       "      <th>required_education</th>\n",
       "      <th>industry</th>\n",
       "      <th>function</th>\n",
       "      <th>salary_range</th>\n",
       "      <th>fraudulent</th>\n",
       "    </tr>\n",
       "  </thead>\n",
       "  <tbody>\n",
       "    <tr>\n",
       "      <th>False</th>\n",
       "      <td>17880.0</td>\n",
       "      <td>17534</td>\n",
       "      <td>14572</td>\n",
       "      <td>15185</td>\n",
       "      <td>17880.0</td>\n",
       "      <td>17880.0</td>\n",
       "      <td>17880.0</td>\n",
       "      <td>14409</td>\n",
       "      <td>10830</td>\n",
       "      <td>9775</td>\n",
       "      <td>12977</td>\n",
       "      <td>11425</td>\n",
       "      <td>2868</td>\n",
       "      <td>17880.0</td>\n",
       "    </tr>\n",
       "    <tr>\n",
       "      <th>True</th>\n",
       "      <td>NaN</td>\n",
       "      <td>346</td>\n",
       "      <td>3308</td>\n",
       "      <td>2695</td>\n",
       "      <td>NaN</td>\n",
       "      <td>NaN</td>\n",
       "      <td>NaN</td>\n",
       "      <td>3471</td>\n",
       "      <td>7050</td>\n",
       "      <td>8105</td>\n",
       "      <td>4903</td>\n",
       "      <td>6455</td>\n",
       "      <td>15012</td>\n",
       "      <td>NaN</td>\n",
       "    </tr>\n",
       "  </tbody>\n",
       "</table>\n",
       "</div>"
      ],
      "text/plain": [
       "         title  location  company_profile  requirements  telecommuting  \\\n",
       "False  17880.0     17534            14572         15185        17880.0   \n",
       "True       NaN       346             3308          2695            NaN   \n",
       "\n",
       "       has_company_logo  has_questions  employment_type  required_experience  \\\n",
       "False           17880.0        17880.0            14409                10830   \n",
       "True                NaN            NaN             3471                 7050   \n",
       "\n",
       "       required_education  industry  function  salary_range  fraudulent  \n",
       "False                9775     12977     11425          2868     17880.0  \n",
       "True                 8105      4903      6455         15012         NaN  "
      ]
     },
     "execution_count": 11,
     "metadata": {},
     "output_type": "execute_result"
    }
   ],
   "source": [
    "# Check if there is any null value\n",
    "df.isna().apply(pd.value_counts)"
   ]
  },
  {
   "cell_type": "code",
   "execution_count": 12,
   "metadata": {
    "execution": {
     "iopub.execute_input": "2021-01-20T05:39:34.575456Z",
     "iopub.status.busy": "2021-01-20T05:39:34.574728Z",
     "iopub.status.idle": "2021-01-20T05:39:34.584098Z",
     "shell.execute_reply": "2021-01-20T05:39:34.583570Z"
    },
    "papermill": {
     "duration": 0.09463,
     "end_time": "2021-01-20T05:39:34.584242",
     "exception": false,
     "start_time": "2021-01-20T05:39:34.489612",
     "status": "completed"
    },
    "tags": []
   },
   "outputs": [
    {
     "data": {
      "text/plain": [
       "title                      0\n",
       "location                 346\n",
       "company_profile         3308\n",
       "requirements            2695\n",
       "telecommuting              0\n",
       "has_company_logo           0\n",
       "has_questions              0\n",
       "employment_type         3471\n",
       "required_experience     7050\n",
       "required_education      8105\n",
       "industry                4903\n",
       "function                6455\n",
       "salary_range           15012\n",
       "fraudulent                 0\n",
       "dtype: int64"
      ]
     },
     "execution_count": 12,
     "metadata": {},
     "output_type": "execute_result"
    }
   ],
   "source": [
    "#Check for number of null values\n",
    "df.isnull().sum()"
   ]
  },
  {
   "cell_type": "code",
   "execution_count": 13,
   "metadata": {
    "execution": {
     "iopub.execute_input": "2021-01-20T05:39:34.719003Z",
     "iopub.status.busy": "2021-01-20T05:39:34.718349Z",
     "iopub.status.idle": "2021-01-20T05:39:34.765032Z",
     "shell.execute_reply": "2021-01-20T05:39:34.764218Z"
    },
    "papermill": {
     "duration": 0.116689,
     "end_time": "2021-01-20T05:39:34.765161",
     "exception": false,
     "start_time": "2021-01-20T05:39:34.648472",
     "status": "completed"
    },
    "tags": []
   },
   "outputs": [
    {
     "data": {
      "text/plain": [
       "493"
      ]
     },
     "execution_count": 13,
     "metadata": {},
     "output_type": "execute_result"
    }
   ],
   "source": [
    "#Check if any duplicate rows in dataset\n",
    "df.duplicated().sum()"
   ]
  },
  {
   "cell_type": "code",
   "execution_count": 14,
   "metadata": {
    "execution": {
     "iopub.execute_input": "2021-01-20T05:39:34.901940Z",
     "iopub.status.busy": "2021-01-20T05:39:34.901256Z",
     "iopub.status.idle": "2021-01-20T05:39:34.938704Z",
     "shell.execute_reply": "2021-01-20T05:39:34.938126Z"
    },
    "papermill": {
     "duration": 0.108685,
     "end_time": "2021-01-20T05:39:34.938824",
     "exception": false,
     "start_time": "2021-01-20T05:39:34.830139",
     "status": "completed"
    },
    "tags": []
   },
   "outputs": [],
   "source": [
    "#drop the duplicate values\n",
    "df.drop_duplicates(inplace=True)"
   ]
  },
  {
   "cell_type": "code",
   "execution_count": 15,
   "metadata": {
    "execution": {
     "iopub.execute_input": "2021-01-20T05:39:35.076828Z",
     "iopub.status.busy": "2021-01-20T05:39:35.076135Z",
     "iopub.status.idle": "2021-01-20T05:39:35.110552Z",
     "shell.execute_reply": "2021-01-20T05:39:35.111072Z"
    },
    "papermill": {
     "duration": 0.107424,
     "end_time": "2021-01-20T05:39:35.111247",
     "exception": false,
     "start_time": "2021-01-20T05:39:35.003823",
     "status": "completed"
    },
    "tags": []
   },
   "outputs": [
    {
     "data": {
      "text/plain": [
       "0"
      ]
     },
     "execution_count": 15,
     "metadata": {},
     "output_type": "execute_result"
    }
   ],
   "source": [
    "df.duplicated().sum()"
   ]
  },
  {
   "cell_type": "code",
   "execution_count": 16,
   "metadata": {
    "execution": {
     "iopub.execute_input": "2021-01-20T05:39:35.253475Z",
     "iopub.status.busy": "2021-01-20T05:39:35.252479Z",
     "iopub.status.idle": "2021-01-20T05:39:35.257769Z",
     "shell.execute_reply": "2021-01-20T05:39:35.257170Z"
    },
    "papermill": {
     "duration": 0.080007,
     "end_time": "2021-01-20T05:39:35.257881",
     "exception": false,
     "start_time": "2021-01-20T05:39:35.177874",
     "status": "completed"
    },
    "tags": []
   },
   "outputs": [],
   "source": [
    "#Differentiate categorical data and numerical data\n",
    "df_num = df[['telecommuting','has_company_logo','has_questions','fraudulent','salary_range']]\n",
    "df_cat = df[['title', 'location','company_profile', 'requirements','employment_type',\n",
    "       'required_experience', 'required_education', 'industry', 'function']]"
   ]
  },
  {
   "cell_type": "code",
   "execution_count": 17,
   "metadata": {
    "execution": {
     "iopub.execute_input": "2021-01-20T05:39:35.396397Z",
     "iopub.status.busy": "2021-01-20T05:39:35.395630Z",
     "iopub.status.idle": "2021-01-20T05:39:35.646715Z",
     "shell.execute_reply": "2021-01-20T05:39:35.646046Z"
    },
    "papermill": {
     "duration": 0.323511,
     "end_time": "2021-01-20T05:39:35.646849",
     "exception": false,
     "start_time": "2021-01-20T05:39:35.323338",
     "status": "completed"
    },
    "tags": []
   },
   "outputs": [
    {
     "data": {
      "image/png": "[encoded data removed]",
      "text/plain": [
       "<Figure size 1152x576 with 1 Axes>"
      ]
     },
     "metadata": {
      "needs_background": "light"
     },
     "output_type": "display_data"
    }
   ],
   "source": [
    "# Checking for Outliers in numerical data\n",
    "plt.figure(figsize=[16,8])\n",
    "sb.boxplot(data = df_num)\n",
    "plt.show()"
   ]
  },
  {
   "cell_type": "markdown",
   "metadata": {
    "papermill": {
     "duration": 0.06777,
     "end_time": "2021-01-20T05:39:35.783247",
     "exception": false,
     "start_time": "2021-01-20T05:39:35.715477",
     "status": "completed"
    },
    "tags": []
   },
   "source": [
    "- Columns 'telecommuting', 'has_company_logo' ,'fradulent' has minimal outliers."
   ]
  },
  {
   "cell_type": "markdown",
   "metadata": {
    "papermill": {
     "duration": 0.067259,
     "end_time": "2021-01-20T05:39:35.917388",
     "exception": false,
     "start_time": "2021-01-20T05:39:35.850129",
     "status": "completed"
    },
    "tags": []
   },
   "source": [
    "## Removing Outliers"
   ]
  },
  {
   "cell_type": "code",
   "execution_count": 18,
   "metadata": {
    "execution": {
     "iopub.execute_input": "2021-01-20T05:39:36.059876Z",
     "iopub.status.busy": "2021-01-20T05:39:36.058868Z",
     "iopub.status.idle": "2021-01-20T05:39:36.099212Z",
     "shell.execute_reply": "2021-01-20T05:39:36.099751Z"
    },
    "papermill": {
     "duration": 0.114847,
     "end_time": "2021-01-20T05:39:36.099889",
     "exception": false,
     "start_time": "2021-01-20T05:39:35.985042",
     "status": "completed"
    },
    "tags": []
   },
   "outputs": [
    {
     "data": {
      "text/html": [
       "<div>\n",
       "<style scoped>\n",
       "    .dataframe tbody tr th:only-of-type {\n",
       "        vertical-align: middle;\n",
       "    }\n",
       "\n",
       "    .dataframe tbody tr th {\n",
       "        vertical-align: top;\n",
       "    }\n",
       "\n",
       "    .dataframe thead th {\n",
       "        text-align: right;\n",
       "    }\n",
       "</style>\n",
       "<table border=\"1\" class=\"dataframe\">\n",
       "  <thead>\n",
       "    <tr style=\"text-align: right;\">\n",
       "      <th></th>\n",
       "      <th>telecommuting</th>\n",
       "      <th>has_company_logo</th>\n",
       "      <th>has_questions</th>\n",
       "      <th>fraudulent</th>\n",
       "      <th>salary_range</th>\n",
       "    </tr>\n",
       "  </thead>\n",
       "  <tbody>\n",
       "    <tr>\n",
       "      <th>0</th>\n",
       "      <td>0</td>\n",
       "      <td>1</td>\n",
       "      <td>0</td>\n",
       "      <td>0</td>\n",
       "      <td>NaN</td>\n",
       "    </tr>\n",
       "    <tr>\n",
       "      <th>1</th>\n",
       "      <td>0</td>\n",
       "      <td>1</td>\n",
       "      <td>0</td>\n",
       "      <td>0</td>\n",
       "      <td>NaN</td>\n",
       "    </tr>\n",
       "    <tr>\n",
       "      <th>2</th>\n",
       "      <td>0</td>\n",
       "      <td>1</td>\n",
       "      <td>0</td>\n",
       "      <td>0</td>\n",
       "      <td>NaN</td>\n",
       "    </tr>\n",
       "    <tr>\n",
       "      <th>3</th>\n",
       "      <td>0</td>\n",
       "      <td>1</td>\n",
       "      <td>0</td>\n",
       "      <td>0</td>\n",
       "      <td>NaN</td>\n",
       "    </tr>\n",
       "    <tr>\n",
       "      <th>4</th>\n",
       "      <td>0</td>\n",
       "      <td>1</td>\n",
       "      <td>1</td>\n",
       "      <td>0</td>\n",
       "      <td>NaN</td>\n",
       "    </tr>\n",
       "    <tr>\n",
       "      <th>...</th>\n",
       "      <td>...</td>\n",
       "      <td>...</td>\n",
       "      <td>...</td>\n",
       "      <td>...</td>\n",
       "      <td>...</td>\n",
       "    </tr>\n",
       "    <tr>\n",
       "      <th>17872</th>\n",
       "      <td>0</td>\n",
       "      <td>1</td>\n",
       "      <td>0</td>\n",
       "      <td>0</td>\n",
       "      <td>NaN</td>\n",
       "    </tr>\n",
       "    <tr>\n",
       "      <th>17873</th>\n",
       "      <td>0</td>\n",
       "      <td>1</td>\n",
       "      <td>0</td>\n",
       "      <td>0</td>\n",
       "      <td>NaN</td>\n",
       "    </tr>\n",
       "    <tr>\n",
       "      <th>17875</th>\n",
       "      <td>0</td>\n",
       "      <td>1</td>\n",
       "      <td>1</td>\n",
       "      <td>0</td>\n",
       "      <td>NaN</td>\n",
       "    </tr>\n",
       "    <tr>\n",
       "      <th>17876</th>\n",
       "      <td>0</td>\n",
       "      <td>1</td>\n",
       "      <td>1</td>\n",
       "      <td>0</td>\n",
       "      <td>NaN</td>\n",
       "    </tr>\n",
       "    <tr>\n",
       "      <th>17879</th>\n",
       "      <td>0</td>\n",
       "      <td>1</td>\n",
       "      <td>1</td>\n",
       "      <td>0</td>\n",
       "      <td>NaN</td>\n",
       "    </tr>\n",
       "  </tbody>\n",
       "</table>\n",
       "<p>13024 rows × 5 columns</p>\n",
       "</div>"
      ],
      "text/plain": [
       "       telecommuting  has_company_logo  has_questions  fraudulent salary_range\n",
       "0                  0                 1              0           0          NaN\n",
       "1                  0                 1              0           0          NaN\n",
       "2                  0                 1              0           0          NaN\n",
       "3                  0                 1              0           0          NaN\n",
       "4                  0                 1              1           0          NaN\n",
       "...              ...               ...            ...         ...          ...\n",
       "17872              0                 1              0           0          NaN\n",
       "17873              0                 1              0           0          NaN\n",
       "17875              0                 1              1           0          NaN\n",
       "17876              0                 1              1           0          NaN\n",
       "17879              0                 1              1           0          NaN\n",
       "\n",
       "[13024 rows x 5 columns]"
      ]
     },
     "execution_count": 18,
     "metadata": {},
     "output_type": "execute_result"
    }
   ],
   "source": [
    "#Removing Outliers from columns\n",
    "df_num = df_num[df_num['telecommuting'] < 0.9 ]\n",
    "df_num = df_num[df_num['fraudulent'] < 0.9 ]\n",
    "df_num = df_num[df_num['has_company_logo'] > 0.1 ]\n",
    "df_num"
   ]
  },
  {
   "cell_type": "code",
   "execution_count": 19,
   "metadata": {
    "execution": {
     "iopub.execute_input": "2021-01-20T05:39:36.237541Z",
     "iopub.status.busy": "2021-01-20T05:39:36.236856Z",
     "iopub.status.idle": "2021-01-20T05:39:36.263016Z",
     "shell.execute_reply": "2021-01-20T05:39:36.262506Z"
    },
    "papermill": {
     "duration": 0.095526,
     "end_time": "2021-01-20T05:39:36.263131",
     "exception": false,
     "start_time": "2021-01-20T05:39:36.167605",
     "status": "completed"
    },
    "tags": []
   },
   "outputs": [
    {
     "data": {
      "text/plain": [
       "title                      0\n",
       "location                 340\n",
       "company_profile         3255\n",
       "requirements            2549\n",
       "telecommuting              0\n",
       "has_company_logo           0\n",
       "has_questions              0\n",
       "employment_type         3397\n",
       "required_experience     6858\n",
       "required_education      7889\n",
       "industry                4769\n",
       "function                6261\n",
       "salary_range           14580\n",
       "fraudulent                 0\n",
       "dtype: int64"
      ]
     },
     "execution_count": 19,
     "metadata": {},
     "output_type": "execute_result"
    }
   ],
   "source": [
    "df.isnull().sum()"
   ]
  },
  {
   "cell_type": "code",
   "execution_count": 20,
   "metadata": {
    "execution": {
     "iopub.execute_input": "2021-01-20T05:39:36.421388Z",
     "iopub.status.busy": "2021-01-20T05:39:36.420557Z",
     "iopub.status.idle": "2021-01-20T05:39:36.427556Z",
     "shell.execute_reply": "2021-01-20T05:39:36.428094Z"
    },
    "papermill": {
     "duration": 0.097532,
     "end_time": "2021-01-20T05:39:36.428262",
     "exception": false,
     "start_time": "2021-01-20T05:39:36.330730",
     "status": "completed"
    },
    "tags": []
   },
   "outputs": [],
   "source": [
    "df.dropna(axis= 0, how= 'any', inplace=True)"
   ]
  },
  {
   "cell_type": "code",
   "execution_count": 21,
   "metadata": {
    "execution": {
     "iopub.execute_input": "2021-01-20T05:39:36.567928Z",
     "iopub.status.busy": "2021-01-20T05:39:36.567302Z",
     "iopub.status.idle": "2021-01-20T05:39:36.576309Z",
     "shell.execute_reply": "2021-01-20T05:39:36.576853Z"
    },
    "papermill": {
     "duration": 0.080662,
     "end_time": "2021-01-20T05:39:36.577003",
     "exception": false,
     "start_time": "2021-01-20T05:39:36.496341",
     "status": "completed"
    },
    "tags": []
   },
   "outputs": [
    {
     "data": {
      "text/plain": [
       "title                  0\n",
       "location               0\n",
       "company_profile        0\n",
       "requirements           0\n",
       "telecommuting          0\n",
       "has_company_logo       0\n",
       "has_questions          0\n",
       "employment_type        0\n",
       "required_experience    0\n",
       "required_education     0\n",
       "industry               0\n",
       "function               0\n",
       "salary_range           0\n",
       "fraudulent             0\n",
       "dtype: int64"
      ]
     },
     "execution_count": 21,
     "metadata": {},
     "output_type": "execute_result"
    }
   ],
   "source": [
    "df.isnull().sum()"
   ]
  },
  {
   "cell_type": "code",
   "execution_count": 22,
   "metadata": {
    "execution": {
     "iopub.execute_input": "2021-01-20T05:39:36.717772Z",
     "iopub.status.busy": "2021-01-20T05:39:36.716975Z",
     "iopub.status.idle": "2021-01-20T05:39:36.721772Z",
     "shell.execute_reply": "2021-01-20T05:39:36.722318Z"
    },
    "papermill": {
     "duration": 0.076836,
     "end_time": "2021-01-20T05:39:36.722459",
     "exception": false,
     "start_time": "2021-01-20T05:39:36.645623",
     "status": "completed"
    },
    "tags": []
   },
   "outputs": [
    {
     "data": {
      "text/plain": [
       "(1485, 14)"
      ]
     },
     "execution_count": 22,
     "metadata": {},
     "output_type": "execute_result"
    }
   ],
   "source": [
    "df.shape"
   ]
  },
  {
   "cell_type": "markdown",
   "metadata": {
    "papermill": {
     "duration": 0.068795,
     "end_time": "2021-01-20T05:39:36.859801",
     "exception": false,
     "start_time": "2021-01-20T05:39:36.791006",
     "status": "completed"
    },
    "tags": []
   },
   "source": [
    "- Outliers and missing values has been removed."
   ]
  },
  {
   "cell_type": "markdown",
   "metadata": {
    "papermill": {
     "duration": 0.069143,
     "end_time": "2021-01-20T05:39:36.998625",
     "exception": false,
     "start_time": "2021-01-20T05:39:36.929482",
     "status": "completed"
    },
    "tags": []
   },
   "source": [
    "## Creating Visual methods to analyze data"
   ]
  },
  {
   "cell_type": "code",
   "execution_count": 23,
   "metadata": {
    "execution": {
     "iopub.execute_input": "2021-01-20T05:39:37.156406Z",
     "iopub.status.busy": "2021-01-20T05:39:37.155283Z",
     "iopub.status.idle": "2021-01-20T05:39:37.593400Z",
     "shell.execute_reply": "2021-01-20T05:39:37.593934Z"
    },
    "papermill": {
     "duration": 0.524916,
     "end_time": "2021-01-20T05:39:37.594071",
     "exception": false,
     "start_time": "2021-01-20T05:39:37.069155",
     "status": "completed"
    },
    "tags": []
   },
   "outputs": [
    {
     "data": {
      "image/png": "[encoded data removed]",
      "text/plain": [
       "<Figure size 1800x1440 with 3 Axes>"
      ]
     },
     "metadata": {
      "needs_background": "light"
     },
     "output_type": "display_data"
    }
   ],
   "source": [
    "# Plots to see the distribution of the continuous features individually\n",
    "\n",
    "plt.figure(figsize= (25,20))\n",
    "plt.subplot(3,3,1)\n",
    "plt.hist(df.employment_type, color='orange', edgecolor = 'black', alpha = 0.7)\n",
    "plt.xlabel('\\nEmployment type')\n",
    "\n",
    "plt.subplot(3,3,2)\n",
    "plt.hist(df.required_experience, color='lightblue', edgecolor = 'black', alpha = 0.7)\n",
    "plt.xlabel('\\nRequired Experience')\n",
    "\n",
    "plt.subplot(3,3,3)\n",
    "plt.hist(df.fraudulent, color='red', edgecolor = 'black', alpha = 0.7)\n",
    "plt.xlabel('\\nFraud')\n",
    "\n",
    "\n",
    "plt.show()"
   ]
  },
  {
   "cell_type": "markdown",
   "metadata": {
    "papermill": {
     "duration": 0.070613,
     "end_time": "2021-01-20T05:39:37.735895",
     "exception": false,
     "start_time": "2021-01-20T05:39:37.665282",
     "status": "completed"
    },
    "tags": []
   },
   "source": [
    "- Full-time jobs are posted more comparatively to other type of employment.\n",
    "- There are more jobs available that requires Mid-senior level Experience."
   ]
  },
  {
   "cell_type": "code",
   "execution_count": 24,
   "metadata": {
    "execution": {
     "iopub.execute_input": "2021-01-20T05:39:37.882904Z",
     "iopub.status.busy": "2021-01-20T05:39:37.882224Z",
     "iopub.status.idle": "2021-01-20T05:39:38.577561Z",
     "shell.execute_reply": "2021-01-20T05:39:38.578058Z"
    },
    "papermill": {
     "duration": 0.772155,
     "end_time": "2021-01-20T05:39:38.578225",
     "exception": false,
     "start_time": "2021-01-20T05:39:37.806070",
     "status": "completed"
    },
    "tags": []
   },
   "outputs": [
    {
     "data": {
      "text/plain": [
       "<AxesSubplot:xlabel='function', ylabel='count'>"
      ]
     },
     "execution_count": 24,
     "metadata": {},
     "output_type": "execute_result"
    },
    {
     "data": {
      "image/png": "[encoded data removed]",
      "text/plain": [
       "<Figure size 3456x1440 with 1 Axes>"
      ]
     },
     "metadata": {
      "needs_background": "light"
     },
     "output_type": "display_data"
    }
   ],
   "source": [
    "plt.figure(figsize=(48,20))\n",
    "sb.set_style(\"darkgrid\")\n",
    "sb.countplot(x='function',data=df,palette='Set1')"
   ]
  },
  {
   "cell_type": "markdown",
   "metadata": {
    "papermill": {
     "duration": 0.072144,
     "end_time": "2021-01-20T05:39:38.722420",
     "exception": false,
     "start_time": "2021-01-20T05:39:38.650276",
     "status": "completed"
    },
    "tags": []
   },
   "source": [
    "- There are maximum number of jobs are posted in IT field and minimum jobs are posted related to Distribution.\n",
    "- Jobs in Sales,IT,Marketing,Engineering,Customer Service,Administrative are most in demand jobs."
   ]
  },
  {
   "cell_type": "markdown",
   "metadata": {
    "papermill": {
     "duration": 0.074284,
     "end_time": "2021-01-20T05:39:38.868666",
     "exception": false,
     "start_time": "2021-01-20T05:39:38.794382",
     "status": "completed"
    },
    "tags": []
   },
   "source": [
    "## Que 1: Which is the job titles have most full time job opportunities and how many?"
   ]
  },
  {
   "cell_type": "code",
   "execution_count": 25,
   "metadata": {
    "execution": {
     "iopub.execute_input": "2021-01-20T05:39:39.022379Z",
     "iopub.status.busy": "2021-01-20T05:39:39.021688Z",
     "iopub.status.idle": "2021-01-20T05:39:39.024781Z",
     "shell.execute_reply": "2021-01-20T05:39:39.025256Z"
    },
    "papermill": {
     "duration": 0.083868,
     "end_time": "2021-01-20T05:39:39.025406",
     "exception": false,
     "start_time": "2021-01-20T05:39:38.941538",
     "status": "completed"
    },
    "tags": []
   },
   "outputs": [],
   "source": [
    "#Subsetting dataframe which have 'Full-time' emplyment type and also are not fruad.\n",
    "df_jobs = df[(df['employment_type'] == 'Full-time') & (df['fraudulent']== 0)]"
   ]
  },
  {
   "cell_type": "code",
   "execution_count": 26,
   "metadata": {
    "execution": {
     "iopub.execute_input": "2021-01-20T05:39:39.174884Z",
     "iopub.status.busy": "2021-01-20T05:39:39.174129Z",
     "iopub.status.idle": "2021-01-20T05:39:39.178991Z",
     "shell.execute_reply": "2021-01-20T05:39:39.179679Z"
    },
    "papermill": {
     "duration": 0.080481,
     "end_time": "2021-01-20T05:39:39.179817",
     "exception": false,
     "start_time": "2021-01-20T05:39:39.099336",
     "status": "completed"
    },
    "tags": []
   },
   "outputs": [
    {
     "data": {
      "text/plain": [
       "(1269, 14)"
      ]
     },
     "execution_count": 26,
     "metadata": {},
     "output_type": "execute_result"
    }
   ],
   "source": [
    "df_jobs.shape"
   ]
  },
  {
   "cell_type": "code",
   "execution_count": 27,
   "metadata": {
    "execution": {
     "iopub.execute_input": "2021-01-20T05:39:39.332387Z",
     "iopub.status.busy": "2021-01-20T05:39:39.331730Z",
     "iopub.status.idle": "2021-01-20T05:39:39.340708Z",
     "shell.execute_reply": "2021-01-20T05:39:39.341347Z"
    },
    "papermill": {
     "duration": 0.086489,
     "end_time": "2021-01-20T05:39:39.341507",
     "exception": false,
     "start_time": "2021-01-20T05:39:39.255018",
     "status": "completed"
    },
    "tags": []
   },
   "outputs": [
    {
     "data": {
      "text/plain": [
       "Agent-Inbound Sales Position                                    12\n",
       "Marketing Manager                                                8\n",
       "Customer Service Representative                                  8\n",
       "Web Developer                                                    7\n",
       "Technical Support Associate                                      7\n",
       "                                                                ..\n",
       "Stock Administrator Job opportunity at California,Santa Rosa     1\n",
       "Director of Sales - Weave The People                             1\n",
       "Office & Travel Manager (30h part-time or full-time)             1\n",
       "Product Manager (Multiple Openings)                              1\n",
       "Level 1 Tech Support Specialist                                  1\n",
       "Name: title, Length: 1027, dtype: int64"
      ]
     },
     "execution_count": 27,
     "metadata": {},
     "output_type": "execute_result"
    }
   ],
   "source": [
    "#Checking the counts of each unique value\n",
    "df_jobs['title'].value_counts()"
   ]
  },
  {
   "cell_type": "code",
   "execution_count": 28,
   "metadata": {
    "execution": {
     "iopub.execute_input": "2021-01-20T05:39:39.499705Z",
     "iopub.status.busy": "2021-01-20T05:39:39.499001Z",
     "iopub.status.idle": "2021-01-20T05:39:39.510958Z",
     "shell.execute_reply": "2021-01-20T05:39:39.511559Z"
    },
    "papermill": {
     "duration": 0.091536,
     "end_time": "2021-01-20T05:39:39.511710",
     "exception": false,
     "start_time": "2021-01-20T05:39:39.420174",
     "status": "completed"
    },
    "tags": []
   },
   "outputs": [
    {
     "data": {
      "text/plain": [
       "12"
      ]
     },
     "execution_count": 28,
     "metadata": {},
     "output_type": "execute_result"
    }
   ],
   "source": [
    "df_jobs['title'].value_counts().max()"
   ]
  },
  {
   "cell_type": "markdown",
   "metadata": {
    "papermill": {
     "duration": 0.074255,
     "end_time": "2021-01-20T05:39:39.662399",
     "exception": false,
     "start_time": "2021-01-20T05:39:39.588144",
     "status": "completed"
    },
    "tags": []
   },
   "source": [
    "### Ans 1 : Job title 'Agent-Inbound Sales Position' has 12 opportunities for a full time job."
   ]
  },
  {
   "cell_type": "code",
   "execution_count": 29,
   "metadata": {
    "execution": {
     "iopub.execute_input": "2021-01-20T05:39:39.816726Z",
     "iopub.status.busy": "2021-01-20T05:39:39.815928Z",
     "iopub.status.idle": "2021-01-20T05:39:39.839040Z",
     "shell.execute_reply": "2021-01-20T05:39:39.838360Z"
    },
    "papermill": {
     "duration": 0.101186,
     "end_time": "2021-01-20T05:39:39.839154",
     "exception": false,
     "start_time": "2021-01-20T05:39:39.737968",
     "status": "completed"
    },
    "tags": []
   },
   "outputs": [
    {
     "data": {
      "text/html": [
       "<div>\n",
       "<style scoped>\n",
       "    .dataframe tbody tr th:only-of-type {\n",
       "        vertical-align: middle;\n",
       "    }\n",
       "\n",
       "    .dataframe tbody tr th {\n",
       "        vertical-align: top;\n",
       "    }\n",
       "\n",
       "    .dataframe thead th {\n",
       "        text-align: right;\n",
       "    }\n",
       "</style>\n",
       "<table border=\"1\" class=\"dataframe\">\n",
       "  <thead>\n",
       "    <tr style=\"text-align: right;\">\n",
       "      <th></th>\n",
       "      <th>title</th>\n",
       "      <th>location</th>\n",
       "      <th>company_profile</th>\n",
       "      <th>requirements</th>\n",
       "      <th>telecommuting</th>\n",
       "      <th>has_company_logo</th>\n",
       "      <th>has_questions</th>\n",
       "      <th>employment_type</th>\n",
       "      <th>required_experience</th>\n",
       "      <th>required_education</th>\n",
       "      <th>industry</th>\n",
       "      <th>function</th>\n",
       "      <th>salary_range</th>\n",
       "      <th>fraudulent</th>\n",
       "    </tr>\n",
       "  </thead>\n",
       "  <tbody>\n",
       "    <tr>\n",
       "      <th>6</th>\n",
       "      <td>Head of Content (m/f)</td>\n",
       "      <td>DE, BE, Berlin</td>\n",
       "      <td>Founded in 2009, the Fonpit AG rose with its i...</td>\n",
       "      <td>Your Know-How:                                ...</td>\n",
       "      <td>0</td>\n",
       "      <td>1</td>\n",
       "      <td>1</td>\n",
       "      <td>Full-time</td>\n",
       "      <td>Mid-Senior level</td>\n",
       "      <td>Master's Degree</td>\n",
       "      <td>Online Media</td>\n",
       "      <td>Management</td>\n",
       "      <td>20000-28000</td>\n",
       "      <td>0</td>\n",
       "    </tr>\n",
       "  </tbody>\n",
       "</table>\n",
       "</div>"
      ],
      "text/plain": [
       "                   title        location  \\\n",
       "6  Head of Content (m/f)  DE, BE, Berlin   \n",
       "\n",
       "                                     company_profile  \\\n",
       "6  Founded in 2009, the Fonpit AG rose with its i...   \n",
       "\n",
       "                                        requirements  telecommuting  \\\n",
       "6  Your Know-How:                                ...              0   \n",
       "\n",
       "   has_company_logo  has_questions employment_type required_experience  \\\n",
       "6                 1              1       Full-time    Mid-Senior level   \n",
       "\n",
       "  required_education      industry    function salary_range  fraudulent  \n",
       "6    Master's Degree  Online Media  Management  20000-28000           0  "
      ]
     },
     "execution_count": 29,
     "metadata": {},
     "output_type": "execute_result"
    }
   ],
   "source": [
    "df.head(1)"
   ]
  },
  {
   "cell_type": "markdown",
   "metadata": {
    "papermill": {
     "duration": 0.074495,
     "end_time": "2021-01-20T05:39:39.991647",
     "exception": false,
     "start_time": "2021-01-20T05:39:39.917152",
     "status": "completed"
    },
    "tags": []
   },
   "source": [
    "## Que 2 : Which industry have the maximum number of fake job postings?"
   ]
  },
  {
   "cell_type": "code",
   "execution_count": 30,
   "metadata": {
    "execution": {
     "iopub.execute_input": "2021-01-20T05:39:40.152100Z",
     "iopub.status.busy": "2021-01-20T05:39:40.151396Z",
     "iopub.status.idle": "2021-01-20T05:39:40.154844Z",
     "shell.execute_reply": "2021-01-20T05:39:40.155409Z"
    },
    "papermill": {
     "duration": 0.086227,
     "end_time": "2021-01-20T05:39:40.155556",
     "exception": false,
     "start_time": "2021-01-20T05:39:40.069329",
     "status": "completed"
    },
    "tags": []
   },
   "outputs": [],
   "source": [
    "#Only including rows which are fake job postings.\n",
    "df_industry = df[df['fraudulent']== 1]"
   ]
  },
  {
   "cell_type": "code",
   "execution_count": 31,
   "metadata": {
    "execution": {
     "iopub.execute_input": "2021-01-20T05:39:40.311412Z",
     "iopub.status.busy": "2021-01-20T05:39:40.310721Z",
     "iopub.status.idle": "2021-01-20T05:39:40.318414Z",
     "shell.execute_reply": "2021-01-20T05:39:40.317858Z"
    },
    "papermill": {
     "duration": 0.086281,
     "end_time": "2021-01-20T05:39:40.318531",
     "exception": false,
     "start_time": "2021-01-20T05:39:40.232250",
     "status": "completed"
    },
    "tags": []
   },
   "outputs": [
    {
     "data": {
      "text/plain": [
       "(82, 14)"
      ]
     },
     "execution_count": 31,
     "metadata": {},
     "output_type": "execute_result"
    }
   ],
   "source": [
    "df_industry.shape"
   ]
  },
  {
   "cell_type": "code",
   "execution_count": 32,
   "metadata": {
    "execution": {
     "iopub.execute_input": "2021-01-20T05:39:40.483047Z",
     "iopub.status.busy": "2021-01-20T05:39:40.481986Z",
     "iopub.status.idle": "2021-01-20T05:39:40.485992Z",
     "shell.execute_reply": "2021-01-20T05:39:40.486557Z"
    },
    "papermill": {
     "duration": 0.090218,
     "end_time": "2021-01-20T05:39:40.486697",
     "exception": false,
     "start_time": "2021-01-20T05:39:40.396479",
     "status": "completed"
    },
    "tags": []
   },
   "outputs": [
    {
     "data": {
      "text/plain": [
       "Oil & Energy                            19\n",
       "Real Estate                             10\n",
       "Consumer Services                        8\n",
       "Financial Services                       6\n",
       "Computer & Network Security              5\n",
       "Retail                                   4\n",
       "Management Consulting                    3\n",
       "Accounting                               2\n",
       "Insurance                                2\n",
       "Telecommunications                       2\n",
       "Hospitality                              2\n",
       "Hospital & Health Care                   2\n",
       "Biotechnology                            2\n",
       "Transportation/Trucking/Railroad         2\n",
       "Human Resources                          2\n",
       "Defense & Space                          1\n",
       "Logistics and Supply Chain               1\n",
       "Mechanical or Industrial Engineering     1\n",
       "Computer Networking                      1\n",
       "Construction                             1\n",
       "Warehousing                              1\n",
       "Military                                 1\n",
       "Media Production                         1\n",
       "Security and Investigations              1\n",
       "Information Services                     1\n",
       "Electrical/Electronic Manufacturing      1\n",
       "Name: industry, dtype: int64"
      ]
     },
     "execution_count": 32,
     "metadata": {},
     "output_type": "execute_result"
    }
   ],
   "source": [
    "#Checking each unique value counts of industry.\n",
    "df_industry['industry'].value_counts()"
   ]
  },
  {
   "cell_type": "markdown",
   "metadata": {
    "papermill": {
     "duration": 0.078068,
     "end_time": "2021-01-20T05:39:40.642611",
     "exception": false,
     "start_time": "2021-01-20T05:39:40.564543",
     "status": "completed"
    },
    "tags": []
   },
   "source": [
    "## Ans 2 : Industry with, maximum no. of fake job postings : Oil & energy\n",
    "                   "
   ]
  },
  {
   "cell_type": "markdown",
   "metadata": {
    "papermill": {
     "duration": 0.077464,
     "end_time": "2021-01-20T05:39:40.798693",
     "exception": false,
     "start_time": "2021-01-20T05:39:40.721229",
     "status": "completed"
    },
    "tags": []
   },
   "source": [
    "**************************"
   ]
  },
  {
   "cell_type": "markdown",
   "metadata": {
    "papermill": {
     "duration": 0.077195,
     "end_time": "2021-01-20T05:39:40.952919",
     "exception": false,
     "start_time": "2021-01-20T05:39:40.875724",
     "status": "completed"
    },
    "tags": []
   },
   "source": [
    "## Balancing dataset"
   ]
  },
  {
   "cell_type": "markdown",
   "metadata": {
    "papermill": {
     "duration": 0.096236,
     "end_time": "2021-01-20T05:39:41.129442",
     "exception": false,
     "start_time": "2021-01-20T05:39:41.033206",
     "status": "completed"
    },
    "tags": []
   },
   "source": [
    "- We have performed Explorartory Data Analysis on dataset,now we need to check if our dataset is balanced or not.\n",
    "- Unbalanced dataset can lead to biased results for our model."
   ]
  },
  {
   "cell_type": "code",
   "execution_count": 33,
   "metadata": {
    "execution": {
     "iopub.execute_input": "2021-01-20T05:39:41.288994Z",
     "iopub.status.busy": "2021-01-20T05:39:41.287972Z",
     "iopub.status.idle": "2021-01-20T05:39:41.296784Z",
     "shell.execute_reply": "2021-01-20T05:39:41.297384Z"
    },
    "papermill": {
     "duration": 0.090925,
     "end_time": "2021-01-20T05:39:41.297540",
     "exception": false,
     "start_time": "2021-01-20T05:39:41.206615",
     "status": "completed"
    },
    "tags": []
   },
   "outputs": [
    {
     "data": {
      "text/plain": [
       "0    1403\n",
       "1      82\n",
       "Name: fraudulent, dtype: int64"
      ]
     },
     "execution_count": 33,
     "metadata": {},
     "output_type": "execute_result"
    }
   ],
   "source": [
    "df['fraudulent'].value_counts()"
   ]
  },
  {
   "cell_type": "markdown",
   "metadata": {
    "papermill": {
     "duration": 0.076963,
     "end_time": "2021-01-20T05:39:41.453856",
     "exception": false,
     "start_time": "2021-01-20T05:39:41.376893",
     "status": "completed"
    },
    "tags": []
   },
   "source": [
    "- As we can see,we have very imbalanced dataset, need to balance it first and then train our model."
   ]
  },
  {
   "cell_type": "markdown",
   "metadata": {
    "papermill": {
     "duration": 0.07616,
     "end_time": "2021-01-20T05:39:41.606972",
     "exception": false,
     "start_time": "2021-01-20T05:39:41.530812",
     "status": "completed"
    },
    "tags": []
   },
   "source": [
    "-\n",
    "-> Separete fraudulent and non fraudulent dataframes:"
   ]
  },
  {
   "cell_type": "code",
   "execution_count": 34,
   "metadata": {
    "execution": {
     "iopub.execute_input": "2021-01-20T05:39:41.767333Z",
     "iopub.status.busy": "2021-01-20T05:39:41.766309Z",
     "iopub.status.idle": "2021-01-20T05:39:41.772132Z",
     "shell.execute_reply": "2021-01-20T05:39:41.772714Z"
    },
    "papermill": {
     "duration": 0.0876,
     "end_time": "2021-01-20T05:39:41.772864",
     "exception": false,
     "start_time": "2021-01-20T05:39:41.685264",
     "status": "completed"
    },
    "tags": []
   },
   "outputs": [
    {
     "data": {
      "text/plain": [
       "array([0, 0, 0, ..., 1, 0, 0], dtype=int64)"
      ]
     },
     "execution_count": 34,
     "metadata": {},
     "output_type": "execute_result"
    }
   ],
   "source": [
    "df['fraudulent'].values"
   ]
  },
  {
   "cell_type": "code",
   "execution_count": 35,
   "metadata": {
    "execution": {
     "iopub.execute_input": "2021-01-20T05:39:41.933640Z",
     "iopub.status.busy": "2021-01-20T05:39:41.932672Z",
     "iopub.status.idle": "2021-01-20T05:39:41.939884Z",
     "shell.execute_reply": "2021-01-20T05:39:41.940477Z"
    },
    "papermill": {
     "duration": 0.090461,
     "end_time": "2021-01-20T05:39:41.940623",
     "exception": false,
     "start_time": "2021-01-20T05:39:41.850162",
     "status": "completed"
    },
    "tags": []
   },
   "outputs": [
    {
     "data": {
      "text/plain": [
       "(82, 14)"
      ]
     },
     "execution_count": 35,
     "metadata": {},
     "output_type": "execute_result"
    }
   ],
   "source": [
    "fraud = df[df['fraudulent']== 1]\n",
    "fraud.shape"
   ]
  },
  {
   "cell_type": "code",
   "execution_count": 36,
   "metadata": {
    "execution": {
     "iopub.execute_input": "2021-01-20T05:39:42.101260Z",
     "iopub.status.busy": "2021-01-20T05:39:42.100262Z",
     "iopub.status.idle": "2021-01-20T05:39:42.107584Z",
     "shell.execute_reply": "2021-01-20T05:39:42.108069Z"
    },
    "papermill": {
     "duration": 0.089272,
     "end_time": "2021-01-20T05:39:42.108228",
     "exception": false,
     "start_time": "2021-01-20T05:39:42.018956",
     "status": "completed"
    },
    "tags": []
   },
   "outputs": [
    {
     "data": {
      "text/plain": [
       "(1403, 14)"
      ]
     },
     "execution_count": 36,
     "metadata": {},
     "output_type": "execute_result"
    }
   ],
   "source": [
    "not_fraud = df[df['fraudulent']== 0]\n",
    "not_fraud.shape"
   ]
  },
  {
   "cell_type": "markdown",
   "metadata": {
    "papermill": {
     "duration": 0.077331,
     "end_time": "2021-01-20T05:39:42.263625",
     "exception": false,
     "start_time": "2021-01-20T05:39:42.186294",
     "status": "completed"
    },
    "tags": []
   },
   "source": [
    "- we can oversample 'fraud' dataframe in order to get balanced dataset. "
   ]
  },
  {
   "cell_type": "code",
   "execution_count": 37,
   "metadata": {
    "execution": {
     "iopub.execute_input": "2021-01-20T05:39:42.427764Z",
     "iopub.status.busy": "2021-01-20T05:39:42.426984Z",
     "iopub.status.idle": "2021-01-20T05:39:42.433054Z",
     "shell.execute_reply": "2021-01-20T05:39:42.432364Z"
    },
    "papermill": {
     "duration": 0.091207,
     "end_time": "2021-01-20T05:39:42.433171",
     "exception": false,
     "start_time": "2021-01-20T05:39:42.341964",
     "status": "completed"
    },
    "tags": []
   },
   "outputs": [],
   "source": [
    "fraud = fraud.sample(1403, replace=True)"
   ]
  },
  {
   "cell_type": "code",
   "execution_count": 38,
   "metadata": {
    "execution": {
     "iopub.execute_input": "2021-01-20T05:39:42.597555Z",
     "iopub.status.busy": "2021-01-20T05:39:42.596526Z",
     "iopub.status.idle": "2021-01-20T05:39:42.601285Z",
     "shell.execute_reply": "2021-01-20T05:39:42.601824Z"
    },
    "papermill": {
     "duration": 0.090314,
     "end_time": "2021-01-20T05:39:42.601962",
     "exception": false,
     "start_time": "2021-01-20T05:39:42.511648",
     "status": "completed"
    },
    "tags": []
   },
   "outputs": [
    {
     "data": {
      "text/plain": [
       "((1403, 14), (1403, 14))"
      ]
     },
     "execution_count": 38,
     "metadata": {},
     "output_type": "execute_result"
    }
   ],
   "source": [
    "fraud.shape, not_fraud.shape"
   ]
  },
  {
   "cell_type": "markdown",
   "metadata": {
    "papermill": {
     "duration": 0.079425,
     "end_time": "2021-01-20T05:39:42.761661",
     "exception": false,
     "start_time": "2021-01-20T05:39:42.682236",
     "status": "completed"
    },
    "tags": []
   },
   "source": [
    "###### Now our dataset is balanced:)"
   ]
  },
  {
   "cell_type": "code",
   "execution_count": 39,
   "metadata": {
    "execution": {
     "iopub.execute_input": "2021-01-20T05:39:42.925943Z",
     "iopub.status.busy": "2021-01-20T05:39:42.924961Z",
     "iopub.status.idle": "2021-01-20T05:39:43.062009Z",
     "shell.execute_reply": "2021-01-20T05:39:43.062641Z"
    },
    "papermill": {
     "duration": 0.221944,
     "end_time": "2021-01-20T05:39:43.062790",
     "exception": false,
     "start_time": "2021-01-20T05:39:42.840846",
     "status": "completed"
    },
    "tags": []
   },
   "outputs": [
    {
     "data": {
      "text/html": [
       "<div>\n",
       "<style scoped>\n",
       "    .dataframe tbody tr th:only-of-type {\n",
       "        vertical-align: middle;\n",
       "    }\n",
       "\n",
       "    .dataframe tbody tr th {\n",
       "        vertical-align: top;\n",
       "    }\n",
       "\n",
       "    .dataframe thead th {\n",
       "        text-align: right;\n",
       "    }\n",
       "</style>\n",
       "<table border=\"1\" class=\"dataframe\">\n",
       "  <thead>\n",
       "    <tr style=\"text-align: right;\">\n",
       "      <th></th>\n",
       "      <th>index</th>\n",
       "      <th>title</th>\n",
       "      <th>location</th>\n",
       "      <th>company_profile</th>\n",
       "      <th>requirements</th>\n",
       "      <th>telecommuting</th>\n",
       "      <th>has_company_logo</th>\n",
       "      <th>has_questions</th>\n",
       "      <th>employment_type</th>\n",
       "      <th>required_experience</th>\n",
       "      <th>required_education</th>\n",
       "      <th>industry</th>\n",
       "      <th>function</th>\n",
       "      <th>salary_range</th>\n",
       "      <th>fraudulent</th>\n",
       "    </tr>\n",
       "  </thead>\n",
       "  <tbody>\n",
       "    <tr>\n",
       "      <th>0</th>\n",
       "      <td>17760</td>\n",
       "      <td>Payroll Clerk</td>\n",
       "      <td>US, DC,</td>\n",
       "      <td>DRS Technologies, headquartered in Arlington, ...</td>\n",
       "      <td>- Overtime may be required occasionally.- High...</td>\n",
       "      <td>0</td>\n",
       "      <td>0</td>\n",
       "      <td>0</td>\n",
       "      <td>Full-time</td>\n",
       "      <td>Entry level</td>\n",
       "      <td>High School or equivalent</td>\n",
       "      <td>Electrical/Electronic Manufacturing</td>\n",
       "      <td>Financial Analyst</td>\n",
       "      <td>53000-67000</td>\n",
       "      <td>1</td>\n",
       "    </tr>\n",
       "    <tr>\n",
       "      <th>1</th>\n",
       "      <td>2750</td>\n",
       "      <td>Administrative Assistant</td>\n",
       "      <td>US, TX, Dallas</td>\n",
       "      <td>AZCO INC. is an employee-owned, full service i...</td>\n",
       "      <td>Minimum of one year administrative assistant e...</td>\n",
       "      <td>0</td>\n",
       "      <td>1</td>\n",
       "      <td>0</td>\n",
       "      <td>Contract</td>\n",
       "      <td>Entry level</td>\n",
       "      <td>Bachelor's Degree</td>\n",
       "      <td>Construction</td>\n",
       "      <td>Administrative</td>\n",
       "      <td>20000-30000</td>\n",
       "      <td>1</td>\n",
       "    </tr>\n",
       "    <tr>\n",
       "      <th>2</th>\n",
       "      <td>1494</td>\n",
       "      <td>JOB VACANCIES AT MONTCALM LUXURY HOTEL LONDON.</td>\n",
       "      <td>GB, EAW, London</td>\n",
       "      <td>Welcome To The Montcalm... A Luxury Hotel Loca...</td>\n",
       "      <td>*Associate or Bachelors Degree from a reputabl...</td>\n",
       "      <td>0</td>\n",
       "      <td>1</td>\n",
       "      <td>0</td>\n",
       "      <td>Full-time</td>\n",
       "      <td>Entry level</td>\n",
       "      <td>Certification</td>\n",
       "      <td>Hospitality</td>\n",
       "      <td>Management</td>\n",
       "      <td>2500-3500</td>\n",
       "      <td>1</td>\n",
       "    </tr>\n",
       "    <tr>\n",
       "      <th>3</th>\n",
       "      <td>9878</td>\n",
       "      <td>IC&amp;E Technician</td>\n",
       "      <td>US, , Stocton, CA</td>\n",
       "      <td>DTE Energy and Refined Resources have partnere...</td>\n",
       "      <td>Knowledge, Skills &amp;amp; Abilities:A high schoo...</td>\n",
       "      <td>0</td>\n",
       "      <td>1</td>\n",
       "      <td>1</td>\n",
       "      <td>Full-time</td>\n",
       "      <td>Mid-Senior level</td>\n",
       "      <td>High School or equivalent</td>\n",
       "      <td>Oil &amp; Energy</td>\n",
       "      <td>Other</td>\n",
       "      <td>95000-115000</td>\n",
       "      <td>1</td>\n",
       "    </tr>\n",
       "    <tr>\n",
       "      <th>4</th>\n",
       "      <td>16861</td>\n",
       "      <td>Quality Engineer</td>\n",
       "      <td>US, MA, New England</td>\n",
       "      <td>Maynard Consulting Company has more than 20 ye...</td>\n",
       "      <td>BS degree in Engineering or Technical Field or...</td>\n",
       "      <td>0</td>\n",
       "      <td>1</td>\n",
       "      <td>1</td>\n",
       "      <td>Contract</td>\n",
       "      <td>Mid-Senior level</td>\n",
       "      <td>Bachelor's Degree</td>\n",
       "      <td>Biotechnology</td>\n",
       "      <td>Accounting/Auditing</td>\n",
       "      <td>40000-90000</td>\n",
       "      <td>1</td>\n",
       "    </tr>\n",
       "    <tr>\n",
       "      <th>...</th>\n",
       "      <td>...</td>\n",
       "      <td>...</td>\n",
       "      <td>...</td>\n",
       "      <td>...</td>\n",
       "      <td>...</td>\n",
       "      <td>...</td>\n",
       "      <td>...</td>\n",
       "      <td>...</td>\n",
       "      <td>...</td>\n",
       "      <td>...</td>\n",
       "      <td>...</td>\n",
       "      <td>...</td>\n",
       "      <td>...</td>\n",
       "      <td>...</td>\n",
       "      <td>...</td>\n",
       "    </tr>\n",
       "    <tr>\n",
       "      <th>2801</th>\n",
       "      <td>17439</td>\n",
       "      <td>Senior Trusts Manager</td>\n",
       "      <td>GB, LND, Kingston upon Thames</td>\n",
       "      <td>VSO brings people together to fight poverty by...</td>\n",
       "      <td>The applicantVSO is looking for an individual ...</td>\n",
       "      <td>0</td>\n",
       "      <td>0</td>\n",
       "      <td>0</td>\n",
       "      <td>Full-time</td>\n",
       "      <td>Mid-Senior level</td>\n",
       "      <td>Bachelor's Degree</td>\n",
       "      <td>International Trade and Development</td>\n",
       "      <td>Business Development</td>\n",
       "      <td>39000-41000</td>\n",
       "      <td>0</td>\n",
       "    </tr>\n",
       "    <tr>\n",
       "      <th>2802</th>\n",
       "      <td>17488</td>\n",
       "      <td>Management Accountant</td>\n",
       "      <td>NZ, N, Auckland</td>\n",
       "      <td>PowerbyProxi and its customers are leading a r...</td>\n",
       "      <td>Reporting to the CFO, the Management Accountan...</td>\n",
       "      <td>0</td>\n",
       "      <td>1</td>\n",
       "      <td>0</td>\n",
       "      <td>Contract</td>\n",
       "      <td>Mid-Senior level</td>\n",
       "      <td>Bachelor's Degree</td>\n",
       "      <td>Electrical/Electronic Manufacturing</td>\n",
       "      <td>Finance</td>\n",
       "      <td>100000-110000</td>\n",
       "      <td>0</td>\n",
       "    </tr>\n",
       "    <tr>\n",
       "      <th>2803</th>\n",
       "      <td>17515</td>\n",
       "      <td>Marketing manager</td>\n",
       "      <td>GR, B, Thessaloniki</td>\n",
       "      <td>A vacation rental platform that will re-invent...</td>\n",
       "      <td>Perfect use of English and Greek language. Soc...</td>\n",
       "      <td>0</td>\n",
       "      <td>1</td>\n",
       "      <td>0</td>\n",
       "      <td>Part-time</td>\n",
       "      <td>Associate</td>\n",
       "      <td>Bachelor's Degree</td>\n",
       "      <td>Leisure, Travel &amp; Tourism</td>\n",
       "      <td>Marketing</td>\n",
       "      <td>5000-7000</td>\n",
       "      <td>0</td>\n",
       "    </tr>\n",
       "    <tr>\n",
       "      <th>2804</th>\n",
       "      <td>17849</td>\n",
       "      <td>Communication Designer</td>\n",
       "      <td>US, CA, San Francisco</td>\n",
       "      <td>Balanced Labs exists to provide accountants an...</td>\n",
       "      <td>Specifically, we’re looking for:5+ years of vi...</td>\n",
       "      <td>0</td>\n",
       "      <td>1</td>\n",
       "      <td>0</td>\n",
       "      <td>Full-time</td>\n",
       "      <td>Mid-Senior level</td>\n",
       "      <td>Bachelor's Degree</td>\n",
       "      <td>Computer Software</td>\n",
       "      <td>Design</td>\n",
       "      <td>80000-100000</td>\n",
       "      <td>0</td>\n",
       "    </tr>\n",
       "    <tr>\n",
       "      <th>2805</th>\n",
       "      <td>17865</td>\n",
       "      <td>Portfolio Development Associate - Paris &amp; rest...</td>\n",
       "      <td>GB, LND, London</td>\n",
       "      <td>We're hiring!AvenueStory is a concept driven b...</td>\n",
       "      <td>Comfortable on the phone, fluent in French and...</td>\n",
       "      <td>0</td>\n",
       "      <td>1</td>\n",
       "      <td>1</td>\n",
       "      <td>Full-time</td>\n",
       "      <td>Entry level</td>\n",
       "      <td>Bachelor's Degree</td>\n",
       "      <td>Real Estate</td>\n",
       "      <td>Sales</td>\n",
       "      <td>18000-20000</td>\n",
       "      <td>0</td>\n",
       "    </tr>\n",
       "  </tbody>\n",
       "</table>\n",
       "<p>2806 rows × 15 columns</p>\n",
       "</div>"
      ],
      "text/plain": [
       "      index                                              title  \\\n",
       "0     17760                                      Payroll Clerk   \n",
       "1      2750                           Administrative Assistant   \n",
       "2      1494     JOB VACANCIES AT MONTCALM LUXURY HOTEL LONDON.   \n",
       "3      9878                                    IC&E Technician   \n",
       "4     16861                                  Quality Engineer    \n",
       "...     ...                                                ...   \n",
       "2801  17439                              Senior Trusts Manager   \n",
       "2802  17488                              Management Accountant   \n",
       "2803  17515                                  Marketing manager   \n",
       "2804  17849                             Communication Designer   \n",
       "2805  17865  Portfolio Development Associate - Paris & rest...   \n",
       "\n",
       "                           location  \\\n",
       "0                          US, DC,    \n",
       "1                    US, TX, Dallas   \n",
       "2                   GB, EAW, London   \n",
       "3                 US, , Stocton, CA   \n",
       "4              US, MA, New England    \n",
       "...                             ...   \n",
       "2801  GB, LND, Kingston upon Thames   \n",
       "2802                NZ, N, Auckland   \n",
       "2803            GR, B, Thessaloniki   \n",
       "2804          US, CA, San Francisco   \n",
       "2805                GB, LND, London   \n",
       "\n",
       "                                        company_profile  \\\n",
       "0     DRS Technologies, headquartered in Arlington, ...   \n",
       "1     AZCO INC. is an employee-owned, full service i...   \n",
       "2     Welcome To The Montcalm... A Luxury Hotel Loca...   \n",
       "3     DTE Energy and Refined Resources have partnere...   \n",
       "4     Maynard Consulting Company has more than 20 ye...   \n",
       "...                                                 ...   \n",
       "2801  VSO brings people together to fight poverty by...   \n",
       "2802  PowerbyProxi and its customers are leading a r...   \n",
       "2803  A vacation rental platform that will re-invent...   \n",
       "2804  Balanced Labs exists to provide accountants an...   \n",
       "2805  We're hiring!AvenueStory is a concept driven b...   \n",
       "\n",
       "                                           requirements  telecommuting  \\\n",
       "0     - Overtime may be required occasionally.- High...              0   \n",
       "1     Minimum of one year administrative assistant e...              0   \n",
       "2     *Associate or Bachelors Degree from a reputabl...              0   \n",
       "3     Knowledge, Skills &amp; Abilities:A high schoo...              0   \n",
       "4     BS degree in Engineering or Technical Field or...              0   \n",
       "...                                                 ...            ...   \n",
       "2801  The applicantVSO is looking for an individual ...              0   \n",
       "2802  Reporting to the CFO, the Management Accountan...              0   \n",
       "2803  Perfect use of English and Greek language. Soc...              0   \n",
       "2804  Specifically, we’re looking for:5+ years of vi...              0   \n",
       "2805  Comfortable on the phone, fluent in French and...              0   \n",
       "\n",
       "      has_company_logo  has_questions employment_type required_experience  \\\n",
       "0                    0              0       Full-time         Entry level   \n",
       "1                    1              0        Contract         Entry level   \n",
       "2                    1              0       Full-time         Entry level   \n",
       "3                    1              1       Full-time    Mid-Senior level   \n",
       "4                    1              1        Contract    Mid-Senior level   \n",
       "...                ...            ...             ...                 ...   \n",
       "2801                 0              0       Full-time    Mid-Senior level   \n",
       "2802                 1              0        Contract    Mid-Senior level   \n",
       "2803                 1              0       Part-time           Associate   \n",
       "2804                 1              0       Full-time    Mid-Senior level   \n",
       "2805                 1              1       Full-time         Entry level   \n",
       "\n",
       "             required_education                             industry  \\\n",
       "0     High School or equivalent  Electrical/Electronic Manufacturing   \n",
       "1             Bachelor's Degree                         Construction   \n",
       "2                 Certification                          Hospitality   \n",
       "3     High School or equivalent                         Oil & Energy   \n",
       "4             Bachelor's Degree                        Biotechnology   \n",
       "...                         ...                                  ...   \n",
       "2801          Bachelor's Degree  International Trade and Development   \n",
       "2802          Bachelor's Degree  Electrical/Electronic Manufacturing   \n",
       "2803          Bachelor's Degree            Leisure, Travel & Tourism   \n",
       "2804          Bachelor's Degree                    Computer Software   \n",
       "2805          Bachelor's Degree                          Real Estate   \n",
       "\n",
       "                  function   salary_range  fraudulent  \n",
       "0        Financial Analyst    53000-67000           1  \n",
       "1           Administrative    20000-30000           1  \n",
       "2               Management      2500-3500           1  \n",
       "3                    Other   95000-115000           1  \n",
       "4      Accounting/Auditing    40000-90000           1  \n",
       "...                    ...            ...         ...  \n",
       "2801  Business Development    39000-41000           0  \n",
       "2802               Finance  100000-110000           0  \n",
       "2803             Marketing      5000-7000           0  \n",
       "2804                Design   80000-100000           0  \n",
       "2805                 Sales    18000-20000           0  \n",
       "\n",
       "[2806 rows x 15 columns]"
      ]
     },
     "execution_count": 39,
     "metadata": {},
     "output_type": "execute_result"
    }
   ],
   "source": [
    "df = fraud.append(not_fraud)\n",
    "df.reset_index()"
   ]
  },
  {
   "cell_type": "markdown",
   "metadata": {
    "papermill": {
     "duration": 0.082058,
     "end_time": "2021-01-20T05:39:43.228834",
     "exception": false,
     "start_time": "2021-01-20T05:39:43.146776",
     "status": "completed"
    },
    "tags": []
   },
   "source": [
    "- We have so much categorical data, so we need to convert it to numerical data.\n",
    "- To do so, we perform LabelEncoding."
   ]
  },
  {
   "cell_type": "code",
   "execution_count": 40,
   "metadata": {
    "execution": {
     "iopub.execute_input": "2021-01-20T05:39:43.397312Z",
     "iopub.status.busy": "2021-01-20T05:39:43.396325Z",
     "iopub.status.idle": "2021-01-20T05:39:43.488429Z",
     "shell.execute_reply": "2021-01-20T05:39:43.487840Z"
    },
    "papermill": {
     "duration": 0.177574,
     "end_time": "2021-01-20T05:39:43.488568",
     "exception": false,
     "start_time": "2021-01-20T05:39:43.310994",
     "status": "completed"
    },
    "tags": []
   },
   "outputs": [],
   "source": [
    "from sklearn.preprocessing import LabelEncoder"
   ]
  },
  {
   "cell_type": "code",
   "execution_count": 41,
   "metadata": {
    "execution": {
     "iopub.execute_input": "2021-01-20T05:39:43.669304Z",
     "iopub.status.busy": "2021-01-20T05:39:43.668145Z",
     "iopub.status.idle": "2021-01-20T05:39:43.688464Z",
     "shell.execute_reply": "2021-01-20T05:39:43.688963Z"
    },
    "papermill": {
     "duration": 0.11835,
     "end_time": "2021-01-20T05:39:43.689119",
     "exception": false,
     "start_time": "2021-01-20T05:39:43.570769",
     "status": "completed"
    },
    "tags": []
   },
   "outputs": [],
   "source": [
    "le = LabelEncoder()\n",
    "df['title'] = le.fit_transform(df['title'])\n",
    "df['location'] = le.fit_transform(df['location'])\n",
    "df['company_profile'] = le.fit_transform(df['company_profile'])\n",
    "df['requirements'] = le.fit_transform(df['requirements'])\n",
    "df['employment_type'] = le.fit_transform(df['employment_type'])\n",
    "df['required_experience'] = le.fit_transform(df['required_experience'])\n",
    "df['required_education'] = le.fit_transform(df['required_education'])\n",
    "df['industry'] = le.fit_transform(df['industry'])\n",
    "df['function'] = le.fit_transform(df['function'])\n",
    "df['salary_range'] = le.fit_transform(df['salary_range'])"
   ]
  },
  {
   "cell_type": "code",
   "execution_count": 42,
   "metadata": {
    "execution": {
     "iopub.execute_input": "2021-01-20T05:39:43.857056Z",
     "iopub.status.busy": "2021-01-20T05:39:43.855760Z",
     "iopub.status.idle": "2021-01-20T05:39:43.872754Z",
     "shell.execute_reply": "2021-01-20T05:39:43.873233Z"
    },
    "papermill": {
     "duration": 0.101753,
     "end_time": "2021-01-20T05:39:43.873381",
     "exception": false,
     "start_time": "2021-01-20T05:39:43.771628",
     "status": "completed"
    },
    "tags": []
   },
   "outputs": [
    {
     "data": {
      "text/html": [
       "<div>\n",
       "<style scoped>\n",
       "    .dataframe tbody tr th:only-of-type {\n",
       "        vertical-align: middle;\n",
       "    }\n",
       "\n",
       "    .dataframe tbody tr th {\n",
       "        vertical-align: top;\n",
       "    }\n",
       "\n",
       "    .dataframe thead th {\n",
       "        text-align: right;\n",
       "    }\n",
       "</style>\n",
       "<table border=\"1\" class=\"dataframe\">\n",
       "  <thead>\n",
       "    <tr style=\"text-align: right;\">\n",
       "      <th></th>\n",
       "      <th>index</th>\n",
       "      <th>title</th>\n",
       "      <th>location</th>\n",
       "      <th>company_profile</th>\n",
       "      <th>requirements</th>\n",
       "      <th>telecommuting</th>\n",
       "      <th>has_company_logo</th>\n",
       "      <th>has_questions</th>\n",
       "      <th>employment_type</th>\n",
       "      <th>required_experience</th>\n",
       "      <th>required_education</th>\n",
       "      <th>industry</th>\n",
       "      <th>function</th>\n",
       "      <th>salary_range</th>\n",
       "      <th>fraudulent</th>\n",
       "    </tr>\n",
       "  </thead>\n",
       "  <tbody>\n",
       "    <tr>\n",
       "      <th>0</th>\n",
       "      <td>17760</td>\n",
       "      <td>764</td>\n",
       "      <td>265</td>\n",
       "      <td>104</td>\n",
       "      <td>24</td>\n",
       "      <td>0</td>\n",
       "      <td>0</td>\n",
       "      <td>0</td>\n",
       "      <td>1</td>\n",
       "      <td>2</td>\n",
       "      <td>4</td>\n",
       "      <td>26</td>\n",
       "      <td>14</td>\n",
       "      <td>397</td>\n",
       "      <td>1</td>\n",
       "    </tr>\n",
       "    <tr>\n",
       "      <th>1</th>\n",
       "      <td>2750</td>\n",
       "      <td>41</td>\n",
       "      <td>401</td>\n",
       "      <td>15</td>\n",
       "      <td>636</td>\n",
       "      <td>0</td>\n",
       "      <td>1</td>\n",
       "      <td>0</td>\n",
       "      <td>0</td>\n",
       "      <td>2</td>\n",
       "      <td>1</td>\n",
       "      <td>17</td>\n",
       "      <td>1</td>\n",
       "      <td>176</td>\n",
       "      <td>1</td>\n",
       "    </tr>\n",
       "    <tr>\n",
       "      <th>2</th>\n",
       "      <td>1494</td>\n",
       "      <td>3</td>\n",
       "      <td>64</td>\n",
       "      <td>406</td>\n",
       "      <td>8</td>\n",
       "      <td>0</td>\n",
       "      <td>1</td>\n",
       "      <td>0</td>\n",
       "      <td>1</td>\n",
       "      <td>2</td>\n",
       "      <td>2</td>\n",
       "      <td>40</td>\n",
       "      <td>20</td>\n",
       "      <td>218</td>\n",
       "      <td>1</td>\n",
       "    </tr>\n",
       "    <tr>\n",
       "      <th>3</th>\n",
       "      <td>9878</td>\n",
       "      <td>497</td>\n",
       "      <td>222</td>\n",
       "      <td>105</td>\n",
       "      <td>599</td>\n",
       "      <td>0</td>\n",
       "      <td>1</td>\n",
       "      <td>1</td>\n",
       "      <td>1</td>\n",
       "      <td>5</td>\n",
       "      <td>4</td>\n",
       "      <td>63</td>\n",
       "      <td>23</td>\n",
       "      <td>501</td>\n",
       "      <td>1</td>\n",
       "    </tr>\n",
       "    <tr>\n",
       "      <th>4</th>\n",
       "      <td>16861</td>\n",
       "      <td>840</td>\n",
       "      <td>316</td>\n",
       "      <td>229</td>\n",
       "      <td>243</td>\n",
       "      <td>0</td>\n",
       "      <td>1</td>\n",
       "      <td>1</td>\n",
       "      <td>0</td>\n",
       "      <td>5</td>\n",
       "      <td>1</td>\n",
       "      <td>6</td>\n",
       "      <td>0</td>\n",
       "      <td>335</td>\n",
       "      <td>1</td>\n",
       "    </tr>\n",
       "  </tbody>\n",
       "</table>\n",
       "</div>"
      ],
      "text/plain": [
       "   index  title  location  company_profile  requirements  telecommuting  \\\n",
       "0  17760    764       265              104            24              0   \n",
       "1   2750     41       401               15           636              0   \n",
       "2   1494      3        64              406             8              0   \n",
       "3   9878    497       222              105           599              0   \n",
       "4  16861    840       316              229           243              0   \n",
       "\n",
       "   has_company_logo  has_questions  employment_type  required_experience  \\\n",
       "0                 0              0                1                    2   \n",
       "1                 1              0                0                    2   \n",
       "2                 1              0                1                    2   \n",
       "3                 1              1                1                    5   \n",
       "4                 1              1                0                    5   \n",
       "\n",
       "   required_education  industry  function  salary_range  fraudulent  \n",
       "0                   4        26        14           397           1  \n",
       "1                   1        17         1           176           1  \n",
       "2                   2        40        20           218           1  \n",
       "3                   4        63        23           501           1  \n",
       "4                   1         6         0           335           1  "
      ]
     },
     "execution_count": 42,
     "metadata": {},
     "output_type": "execute_result"
    }
   ],
   "source": [
    "df = df.reset_index()\n",
    "df.head()"
   ]
  },
  {
   "cell_type": "markdown",
   "metadata": {
    "papermill": {
     "duration": 0.081104,
     "end_time": "2021-01-20T05:39:44.035246",
     "exception": false,
     "start_time": "2021-01-20T05:39:43.954142",
     "status": "completed"
    },
    "tags": []
   },
   "source": [
    "### Split dataset into training and testing"
   ]
  },
  {
   "cell_type": "code",
   "execution_count": 43,
   "metadata": {
    "execution": {
     "iopub.execute_input": "2021-01-20T05:39:44.216647Z",
     "iopub.status.busy": "2021-01-20T05:39:44.215648Z",
     "iopub.status.idle": "2021-01-20T05:39:44.302283Z",
     "shell.execute_reply": "2021-01-20T05:39:44.302870Z"
    },
    "papermill": {
     "duration": 0.184797,
     "end_time": "2021-01-20T05:39:44.303013",
     "exception": false,
     "start_time": "2021-01-20T05:39:44.118216",
     "status": "completed"
    },
    "tags": []
   },
   "outputs": [],
   "source": [
    "from sklearn.model_selection import train_test_split"
   ]
  },
  {
   "cell_type": "code",
   "execution_count": 44,
   "metadata": {
    "execution": {
     "iopub.execute_input": "2021-01-20T05:39:44.536632Z",
     "iopub.status.busy": "2021-01-20T05:39:44.535429Z",
     "iopub.status.idle": "2021-01-20T05:39:44.541593Z",
     "shell.execute_reply": "2021-01-20T05:39:44.542435Z"
    },
    "papermill": {
     "duration": 0.136934,
     "end_time": "2021-01-20T05:39:44.542657",
     "exception": false,
     "start_time": "2021-01-20T05:39:44.405723",
     "status": "completed"
    },
    "tags": []
   },
   "outputs": [],
   "source": [
    "X = df[['index', 'title', 'location', 'company_profile', 'requirements',\n",
    "       'telecommuting', 'has_company_logo', 'has_questions', 'employment_type',\n",
    "       'required_experience', 'required_education', 'industry', 'function',\n",
    "       'salary_range']].values\n",
    "Y = df[['fraudulent']].values"
   ]
  },
  {
   "cell_type": "code",
   "execution_count": 45,
   "metadata": {
    "execution": {
     "iopub.execute_input": "2021-01-20T05:39:44.800601Z",
     "iopub.status.busy": "2021-01-20T05:39:44.799868Z",
     "iopub.status.idle": "2021-01-20T05:39:44.806671Z",
     "shell.execute_reply": "2021-01-20T05:39:44.807254Z"
    },
    "papermill": {
     "duration": 0.111515,
     "end_time": "2021-01-20T05:39:44.807399",
     "exception": false,
     "start_time": "2021-01-20T05:39:44.695884",
     "status": "completed"
    },
    "tags": []
   },
   "outputs": [],
   "source": [
    "X_train, X_test, Y_train, Y_test = train_test_split(X, Y)"
   ]
  },
  {
   "cell_type": "code",
   "execution_count": 46,
   "metadata": {
    "execution": {
     "iopub.execute_input": "2021-01-20T05:39:44.982828Z",
     "iopub.status.busy": "2021-01-20T05:39:44.981771Z",
     "iopub.status.idle": "2021-01-20T05:39:44.986753Z",
     "shell.execute_reply": "2021-01-20T05:39:44.986125Z"
    },
    "papermill": {
     "duration": 0.093511,
     "end_time": "2021-01-20T05:39:44.986877",
     "exception": false,
     "start_time": "2021-01-20T05:39:44.893366",
     "status": "completed"
    },
    "tags": []
   },
   "outputs": [
    {
     "data": {
      "text/plain": [
       "((2104, 14), (702, 14), (2104, 1), (702, 1))"
      ]
     },
     "execution_count": 46,
     "metadata": {},
     "output_type": "execute_result"
    }
   ],
   "source": [
    "X_train.shape, X_test.shape, Y_train.shape, Y_test.shape"
   ]
  },
  {
   "cell_type": "markdown",
   "metadata": {
    "papermill": {
     "duration": 0.087547,
     "end_time": "2021-01-20T05:39:50.931158",
     "exception": false,
     "start_time": "2021-01-20T05:39:50.843611",
     "status": "completed"
    },
    "tags": []
   },
   "source": [
    "### 3) Random Forest Algorithm"
   ]
  },
  {
   "cell_type": "markdown",
   "metadata": {
    "papermill": {
     "duration": 0.090902,
     "end_time": "2021-01-20T05:39:51.109989",
     "exception": false,
     "start_time": "2021-01-20T05:39:51.019087",
     "status": "completed"
    },
    "tags": []
   },
   "source": [
    "#### Train the Model:"
   ]
  },
  {
   "cell_type": "code",
   "execution_count": 63,
   "metadata": {
    "execution": {
     "iopub.execute_input": "2021-01-20T05:39:51.290298Z",
     "iopub.status.busy": "2021-01-20T05:39:51.289492Z",
     "iopub.status.idle": "2021-01-20T05:39:51.351322Z",
     "shell.execute_reply": "2021-01-20T05:39:51.350605Z"
    },
    "papermill": {
     "duration": 0.153497,
     "end_time": "2021-01-20T05:39:51.351435",
     "exception": false,
     "start_time": "2021-01-20T05:39:51.197938",
     "status": "completed"
    },
    "tags": []
   },
   "outputs": [],
   "source": [
    "from sklearn.ensemble import RandomForestClassifier"
   ]
  },
  {
   "cell_type": "code",
   "execution_count": 64,
   "metadata": {
    "execution": {
     "iopub.execute_input": "2021-01-20T05:39:51.533982Z",
     "iopub.status.busy": "2021-01-20T05:39:51.533318Z",
     "iopub.status.idle": "2021-01-20T05:39:51.536792Z",
     "shell.execute_reply": "2021-01-20T05:39:51.537342Z"
    },
    "papermill": {
     "duration": 0.097181,
     "end_time": "2021-01-20T05:39:51.537484",
     "exception": false,
     "start_time": "2021-01-20T05:39:51.440303",
     "status": "completed"
    },
    "tags": []
   },
   "outputs": [],
   "source": [
    "rfc = RandomForestClassifier(n_estimators=5)"
   ]
  },
  {
   "cell_type": "code",
   "execution_count": 65,
   "metadata": {
    "execution": {
     "iopub.execute_input": "2021-01-20T05:39:51.717438Z",
     "iopub.status.busy": "2021-01-20T05:39:51.716758Z",
     "iopub.status.idle": "2021-01-20T05:39:51.745073Z",
     "shell.execute_reply": "2021-01-20T05:39:51.744577Z"
    },
    "papermill": {
     "duration": 0.120503,
     "end_time": "2021-01-20T05:39:51.745183",
     "exception": false,
     "start_time": "2021-01-20T05:39:51.624680",
     "status": "completed"
    },
    "tags": []
   },
   "outputs": [
    {
     "name": "stderr",
     "output_type": "stream",
     "text": [
      "<ipython-input-65-96e8a0ce9cd3>:1: DataConversionWarning: A column-vector y was passed when a 1d array was expected. Please change the shape of y to (n_samples,), for example using ravel().\n",
      "  rfc.fit(X_train, Y_train)\n"
     ]
    },
    {
     "data": {
      "text/plain": [
       "RandomForestClassifier(n_estimators=5)"
      ]
     },
     "execution_count": 65,
     "metadata": {},
     "output_type": "execute_result"
    }
   ],
   "source": [
    "rfc.fit(X_train, Y_train)"
   ]
  },
  {
   "cell_type": "markdown",
   "metadata": {
    "papermill": {
     "duration": 0.087519,
     "end_time": "2021-01-20T05:39:51.920604",
     "exception": false,
     "start_time": "2021-01-20T05:39:51.833085",
     "status": "completed"
    },
    "tags": []
   },
   "source": [
    "#### Test the Model:"
   ]
  },
  {
   "cell_type": "code",
   "execution_count": 66,
   "metadata": {
    "execution": {
     "iopub.execute_input": "2021-01-20T05:39:52.105108Z",
     "iopub.status.busy": "2021-01-20T05:39:52.104204Z",
     "iopub.status.idle": "2021-01-20T05:39:52.108792Z",
     "shell.execute_reply": "2021-01-20T05:39:52.108122Z"
    },
    "papermill": {
     "duration": 0.099306,
     "end_time": "2021-01-20T05:39:52.108913",
     "exception": false,
     "start_time": "2021-01-20T05:39:52.009607",
     "status": "completed"
    },
    "tags": []
   },
   "outputs": [],
   "source": [
    "Y_pred = rfc.predict(X_test)"
   ]
  },
  {
   "cell_type": "code",
   "execution_count": 67,
   "metadata": {
    "execution": {
     "iopub.execute_input": "2021-01-20T05:39:52.291396Z",
     "iopub.status.busy": "2021-01-20T05:39:52.290754Z",
     "iopub.status.idle": "2021-01-20T05:39:52.295696Z",
     "shell.execute_reply": "2021-01-20T05:39:52.296263Z"
    },
    "papermill": {
     "duration": 0.097621,
     "end_time": "2021-01-20T05:39:52.296410",
     "exception": false,
     "start_time": "2021-01-20T05:39:52.198789",
     "status": "completed"
    },
    "tags": []
   },
   "outputs": [],
   "source": [
    "Y_test = Y_test.flatten()\n",
    "Y_pred = Y_pred.flatten()"
   ]
  },
  {
   "cell_type": "code",
   "execution_count": 68,
   "metadata": {
    "execution": {
     "iopub.execute_input": "2021-01-20T05:39:52.483112Z",
     "iopub.status.busy": "2021-01-20T05:39:52.482475Z",
     "iopub.status.idle": "2021-01-20T05:39:52.493401Z",
     "shell.execute_reply": "2021-01-20T05:39:52.493861Z"
    },
    "papermill": {
     "duration": 0.105999,
     "end_time": "2021-01-20T05:39:52.494004",
     "exception": false,
     "start_time": "2021-01-20T05:39:52.388005",
     "status": "completed"
    },
    "scrolled": true,
    "tags": []
   },
   "outputs": [
    {
     "data": {
      "text/html": [
       "<div>\n",
       "<style scoped>\n",
       "    .dataframe tbody tr th:only-of-type {\n",
       "        vertical-align: middle;\n",
       "    }\n",
       "\n",
       "    .dataframe tbody tr th {\n",
       "        vertical-align: top;\n",
       "    }\n",
       "\n",
       "    .dataframe thead th {\n",
       "        text-align: right;\n",
       "    }\n",
       "</style>\n",
       "<table border=\"1\" class=\"dataframe\">\n",
       "  <thead>\n",
       "    <tr style=\"text-align: right;\">\n",
       "      <th></th>\n",
       "      <th>Y_test</th>\n",
       "      <th>Y_pred</th>\n",
       "    </tr>\n",
       "  </thead>\n",
       "  <tbody>\n",
       "    <tr>\n",
       "      <th>0</th>\n",
       "      <td>1</td>\n",
       "      <td>1</td>\n",
       "    </tr>\n",
       "    <tr>\n",
       "      <th>1</th>\n",
       "      <td>0</td>\n",
       "      <td>0</td>\n",
       "    </tr>\n",
       "    <tr>\n",
       "      <th>2</th>\n",
       "      <td>1</td>\n",
       "      <td>1</td>\n",
       "    </tr>\n",
       "    <tr>\n",
       "      <th>3</th>\n",
       "      <td>1</td>\n",
       "      <td>1</td>\n",
       "    </tr>\n",
       "    <tr>\n",
       "      <th>4</th>\n",
       "      <td>0</td>\n",
       "      <td>0</td>\n",
       "    </tr>\n",
       "    <tr>\n",
       "      <th>...</th>\n",
       "      <td>...</td>\n",
       "      <td>...</td>\n",
       "    </tr>\n",
       "    <tr>\n",
       "      <th>697</th>\n",
       "      <td>1</td>\n",
       "      <td>1</td>\n",
       "    </tr>\n",
       "    <tr>\n",
       "      <th>698</th>\n",
       "      <td>0</td>\n",
       "      <td>0</td>\n",
       "    </tr>\n",
       "    <tr>\n",
       "      <th>699</th>\n",
       "      <td>1</td>\n",
       "      <td>1</td>\n",
       "    </tr>\n",
       "    <tr>\n",
       "      <th>700</th>\n",
       "      <td>0</td>\n",
       "      <td>0</td>\n",
       "    </tr>\n",
       "    <tr>\n",
       "      <th>701</th>\n",
       "      <td>0</td>\n",
       "      <td>0</td>\n",
       "    </tr>\n",
       "  </tbody>\n",
       "</table>\n",
       "<p>702 rows × 2 columns</p>\n",
       "</div>"
      ],
      "text/plain": [
       "     Y_test  Y_pred\n",
       "0         1       1\n",
       "1         0       0\n",
       "2         1       1\n",
       "3         1       1\n",
       "4         0       0\n",
       "..      ...     ...\n",
       "697       1       1\n",
       "698       0       0\n",
       "699       1       1\n",
       "700       0       0\n",
       "701       0       0\n",
       "\n",
       "[702 rows x 2 columns]"
      ]
     },
     "execution_count": 68,
     "metadata": {},
     "output_type": "execute_result"
    }
   ],
   "source": [
    "df_rfc = pd.DataFrame({'Y_test': Y_test , 'Y_pred': Y_pred}) \n",
    "df_rfc"
   ]
  },
  {
   "cell_type": "markdown",
   "metadata": {
    "papermill": {
     "duration": 0.088835,
     "end_time": "2021-01-20T05:39:52.672353",
     "exception": false,
     "start_time": "2021-01-20T05:39:52.583518",
     "status": "completed"
    },
    "tags": []
   },
   "source": [
    "#### Check Accuracy Score:"
   ]
  },
  {
   "cell_type": "code",
   "execution_count": 69,
   "metadata": {
    "execution": {
     "iopub.execute_input": "2021-01-20T05:39:52.857756Z",
     "iopub.status.busy": "2021-01-20T05:39:52.857056Z",
     "iopub.status.idle": "2021-01-20T05:39:52.863291Z",
     "shell.execute_reply": "2021-01-20T05:39:52.862755Z"
    },
    "papermill": {
     "duration": 0.100068,
     "end_time": "2021-01-20T05:39:52.863408",
     "exception": false,
     "start_time": "2021-01-20T05:39:52.763340",
     "status": "completed"
    },
    "tags": []
   },
   "outputs": [
    {
     "data": {
      "text/plain": [
       "1.0"
      ]
     },
     "execution_count": 69,
     "metadata": {},
     "output_type": "execute_result"
    }
   ],
   "source": [
    "accuracy_score(Y_pred,Y_test)"
   ]
  }
 ],
 "metadata": {
  "kernelspec": {
   "display_name": "Python 3",
   "language": "python",
   "name": "python3"
  },
  "language_info": {
   "codemirror_mode": {
    "name": "ipython",
    "version": 3
   },
   "file_extension": ".py",
   "mimetype": "text/x-python",
   "name": "python",
   "nbconvert_exporter": "python",
   "pygments_lexer": "ipython3",
   "version": "3.8.8"
  },
  "papermill": {
   "duration": 28.495354,
   "end_time": "2021-01-20T05:39:53.419428",
   "environment_variables": {},
   "exception": null,
   "input_path": "__notebook__.ipynb",
   "output_path": "__notebook__.ipynb",
   "parameters": {},
   "start_time": "2021-01-20T05:39:24.924074",
   "version": "2.1.0"
  }
 },
 "nbformat": 4,
 "nbformat_minor": 4
}
